{
 "cells": [
  {
   "cell_type": "markdown",
   "metadata": {},
   "source": [
    "# Basic Sentiment Analysis with vaderSentiment"
   ]
  },
  {
   "cell_type": "code",
   "execution_count": 5,
   "metadata": {},
   "outputs": [],
   "source": [
    "from vaderSentiment.vaderSentiment import SentimentIntensityAnalyzer\n",
    "import numpy as np\n",
    "import pandas as pd"
   ]
  },
  {
   "cell_type": "code",
   "execution_count": 7,
   "metadata": {},
   "outputs": [
    {
     "data": {
      "text/html": [
       "<div>\n",
       "<style scoped>\n",
       "    .dataframe tbody tr th:only-of-type {\n",
       "        vertical-align: middle;\n",
       "    }\n",
       "\n",
       "    .dataframe tbody tr th {\n",
       "        vertical-align: top;\n",
       "    }\n",
       "\n",
       "    .dataframe thead th {\n",
       "        text-align: right;\n",
       "    }\n",
       "</style>\n",
       "<table border=\"1\" class=\"dataframe\">\n",
       "  <thead>\n",
       "    <tr style=\"text-align: right;\">\n",
       "      <th></th>\n",
       "      <th>Unnamed: 0</th>\n",
       "      <th>tweet_text</th>\n",
       "    </tr>\n",
       "  </thead>\n",
       "  <tbody>\n",
       "    <tr>\n",
       "      <th>0</th>\n",
       "      <td>0</td>\n",
       "      <td>@erictile_: The reason why America isn’t recov...</td>\n",
       "    </tr>\n",
       "    <tr>\n",
       "      <th>1</th>\n",
       "      <td>1</td>\n",
       "      <td>@erictile_: The reason why America isn’t recov...</td>\n",
       "    </tr>\n",
       "    <tr>\n",
       "      <th>2</th>\n",
       "      <td>2</td>\n",
       "      <td>@itskevo254: This is the first year I'm not go...</td>\n",
       "    </tr>\n",
       "    <tr>\n",
       "      <th>3</th>\n",
       "      <td>3</td>\n",
       "      <td>@ipragyasingh1: DM agra has issued u a notice ...</td>\n",
       "    </tr>\n",
       "    <tr>\n",
       "      <th>4</th>\n",
       "      <td>4</td>\n",
       "      <td>@tveitdal: The Covid-19 pandemic is threatenin...</td>\n",
       "    </tr>\n",
       "  </tbody>\n",
       "</table>\n",
       "</div>"
      ],
      "text/plain": [
       "   Unnamed: 0                                         tweet_text\n",
       "0           0  @erictile_: The reason why America isn’t recov...\n",
       "1           1  @erictile_: The reason why America isn’t recov...\n",
       "2           2  @itskevo254: This is the first year I'm not go...\n",
       "3           3  @ipragyasingh1: DM agra has issued u a notice ...\n",
       "4           4  @tveitdal: The Covid-19 pandemic is threatenin..."
      ]
     },
     "execution_count": 7,
     "metadata": {},
     "output_type": "execute_result"
    }
   ],
   "source": [
    "df = pd.read_csv('dataset/tweet_sample_100.csv')\n",
    "df.head()"
   ]
  },
  {
   "cell_type": "markdown",
   "metadata": {},
   "source": [
    "### Function to get the sentiments of the sentence."
   ]
  },
  {
   "cell_type": "code",
   "execution_count": 8,
   "metadata": {},
   "outputs": [],
   "source": [
    "def sentiment_scores(sentence):\n",
    "    # Create a SentimentIntensityAnalyzer object\n",
    "    sid_obj = SentimentIntensityAnalyzer()\n",
    "    \n",
    "    # polarity_scores method of SentimentIntensityAnalyzer\n",
    "    # object gives a sentiment dictionary\n",
    "    # which contains pos, neg, neu, and compoind scores\n",
    "    sentiment_dict = sid_obj.polarity_scores(sentence)\n",
    "    \n",
    "    return sentiment_dict\n",
    "\n",
    "# Function to remove unwanted string in the tweet\n",
    "def remove_unwanted_string(dataframe):\n",
    "    new_record = []\n",
    "    tweet_text = dataframe.apply(lambda x: str(x).split())\n",
    "    for record in tweet_text:\n",
    "        for text in record:\n",
    "            if 'RT' in text or '@' in text or '#' in text:\n",
    "                record.remove(text)\n",
    "        \n",
    "        new_record.append(' '.join(record))\n",
    "    dataframe = new_record\n",
    "    return dataframe"
   ]
  },
  {
   "cell_type": "code",
   "execution_count": 11,
   "metadata": {},
   "outputs": [
    {
     "data": {
      "text/html": [
       "<div>\n",
       "<style scoped>\n",
       "    .dataframe tbody tr th:only-of-type {\n",
       "        vertical-align: middle;\n",
       "    }\n",
       "\n",
       "    .dataframe tbody tr th {\n",
       "        vertical-align: top;\n",
       "    }\n",
       "\n",
       "    .dataframe thead th {\n",
       "        text-align: right;\n",
       "    }\n",
       "</style>\n",
       "<table border=\"1\" class=\"dataframe\">\n",
       "  <thead>\n",
       "    <tr style=\"text-align: right;\">\n",
       "      <th></th>\n",
       "      <th>tweet_text</th>\n",
       "    </tr>\n",
       "  </thead>\n",
       "  <tbody>\n",
       "    <tr>\n",
       "      <th>0</th>\n",
       "      <td>The reason why America isn’t recovering from C...</td>\n",
       "    </tr>\n",
       "    <tr>\n",
       "      <th>1</th>\n",
       "      <td>The reason why America isn’t recovering from C...</td>\n",
       "    </tr>\n",
       "    <tr>\n",
       "      <th>2</th>\n",
       "      <td>This is the first year I'm not going to Dubai ...</td>\n",
       "    </tr>\n",
       "    <tr>\n",
       "      <th>3</th>\n",
       "      <td>DM agra has issued u a notice for baseless ali...</td>\n",
       "    </tr>\n",
       "    <tr>\n",
       "      <th>4</th>\n",
       "      <td>The Covid-19 pandemic is threatening vital rai...</td>\n",
       "    </tr>\n",
       "  </tbody>\n",
       "</table>\n",
       "</div>"
      ],
      "text/plain": [
       "                                          tweet_text\n",
       "0  The reason why America isn’t recovering from C...\n",
       "1  The reason why America isn’t recovering from C...\n",
       "2  This is the first year I'm not going to Dubai ...\n",
       "3  DM agra has issued u a notice for baseless ali...\n",
       "4  The Covid-19 pandemic is threatening vital rai..."
      ]
     },
     "execution_count": 11,
     "metadata": {},
     "output_type": "execute_result"
    }
   ],
   "source": [
    "df_tweets = pd.DataFrame()\n",
    "df_tweets['tweet_text'] = remove_unwanted_string(df['tweet_text'])\n",
    "df_tweets.head()"
   ]
  },
  {
   "cell_type": "code",
   "execution_count": 12,
   "metadata": {},
   "outputs": [],
   "source": [
    "pos, neg, neu, comp = [], [], [], []\n",
    "for text in df_tweets['tweet_text']:\n",
    "    sentiment = sentiment_scores(text)\n",
    "    pos.append(sentiment['pos'])\n",
    "    neg.append(sentiment['neg'])\n",
    "    neu.append(sentiment['neu'])\n",
    "    comp.append(sentiment['compound'])\n",
    "    \n",
    "df_tweets_sentiment = pd.DataFrame()\n",
    "# df_tweets_sentiment.columns = ['tweet_text', 'positive', 'negative', 'neutral', 'compound']\n",
    "df_tweets_sentiment['tweet_text'] = df_tweets['tweet_text']\n",
    "df_tweets_sentiment['positive'] = pos\n",
    "df_tweets_sentiment['negative'] = neg\n",
    "df_tweets_sentiment['neutral'] = neu\n",
    "df_tweets_sentiment['compound'] = comp"
   ]
  },
  {
   "cell_type": "code",
   "execution_count": 13,
   "metadata": {},
   "outputs": [
    {
     "data": {
      "text/html": [
       "<div>\n",
       "<style scoped>\n",
       "    .dataframe tbody tr th:only-of-type {\n",
       "        vertical-align: middle;\n",
       "    }\n",
       "\n",
       "    .dataframe tbody tr th {\n",
       "        vertical-align: top;\n",
       "    }\n",
       "\n",
       "    .dataframe thead th {\n",
       "        text-align: right;\n",
       "    }\n",
       "</style>\n",
       "<table border=\"1\" class=\"dataframe\">\n",
       "  <thead>\n",
       "    <tr style=\"text-align: right;\">\n",
       "      <th></th>\n",
       "      <th>tweet_text</th>\n",
       "      <th>positive</th>\n",
       "      <th>negative</th>\n",
       "      <th>neutral</th>\n",
       "      <th>compound</th>\n",
       "    </tr>\n",
       "  </thead>\n",
       "  <tbody>\n",
       "    <tr>\n",
       "      <th>0</th>\n",
       "      <td>The reason why America isn’t recovering from C...</td>\n",
       "      <td>0.000</td>\n",
       "      <td>0.000</td>\n",
       "      <td>1.000</td>\n",
       "      <td>0.0000</td>\n",
       "    </tr>\n",
       "    <tr>\n",
       "      <th>1</th>\n",
       "      <td>The reason why America isn’t recovering from C...</td>\n",
       "      <td>0.000</td>\n",
       "      <td>0.000</td>\n",
       "      <td>1.000</td>\n",
       "      <td>0.0000</td>\n",
       "    </tr>\n",
       "    <tr>\n",
       "      <th>2</th>\n",
       "      <td>This is the first year I'm not going to Dubai ...</td>\n",
       "      <td>0.194</td>\n",
       "      <td>0.168</td>\n",
       "      <td>0.638</td>\n",
       "      <td>0.4588</td>\n",
       "    </tr>\n",
       "    <tr>\n",
       "      <th>3</th>\n",
       "      <td>DM agra has issued u a notice for baseless ali...</td>\n",
       "      <td>0.000</td>\n",
       "      <td>0.000</td>\n",
       "      <td>1.000</td>\n",
       "      <td>0.0000</td>\n",
       "    </tr>\n",
       "    <tr>\n",
       "      <th>4</th>\n",
       "      <td>The Covid-19 pandemic is threatening vital rai...</td>\n",
       "      <td>0.115</td>\n",
       "      <td>0.309</td>\n",
       "      <td>0.576</td>\n",
       "      <td>-0.5719</td>\n",
       "    </tr>\n",
       "  </tbody>\n",
       "</table>\n",
       "</div>"
      ],
      "text/plain": [
       "                                          tweet_text  positive  negative  \\\n",
       "0  The reason why America isn’t recovering from C...     0.000     0.000   \n",
       "1  The reason why America isn’t recovering from C...     0.000     0.000   \n",
       "2  This is the first year I'm not going to Dubai ...     0.194     0.168   \n",
       "3  DM agra has issued u a notice for baseless ali...     0.000     0.000   \n",
       "4  The Covid-19 pandemic is threatening vital rai...     0.115     0.309   \n",
       "\n",
       "   neutral  compound  \n",
       "0    1.000    0.0000  \n",
       "1    1.000    0.0000  \n",
       "2    0.638    0.4588  \n",
       "3    1.000    0.0000  \n",
       "4    0.576   -0.5719  "
      ]
     },
     "execution_count": 13,
     "metadata": {},
     "output_type": "execute_result"
    }
   ],
   "source": [
    "df_tweets_sentiment.head()"
   ]
  },
  {
   "cell_type": "code",
   "execution_count": null,
   "metadata": {},
   "outputs": [],
   "source": []
  }
 ],
 "metadata": {
  "kernelspec": {
   "display_name": "Python 3",
   "language": "python",
   "name": "python3"
  },
  "language_info": {
   "codemirror_mode": {
    "name": "ipython",
    "version": 3
   },
   "file_extension": ".py",
   "mimetype": "text/x-python",
   "name": "python",
   "nbconvert_exporter": "python",
   "pygments_lexer": "ipython3",
   "version": "3.8.3"
  }
 },
 "nbformat": 4,
 "nbformat_minor": 4
}
