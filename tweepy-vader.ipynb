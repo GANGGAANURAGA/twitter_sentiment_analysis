{
 "cells": [
  {
   "cell_type": "markdown",
   "metadata": {
    "colab_type": "text",
    "id": "view-in-github"
   },
   "source": [
    "<a href=\"https://colab.research.google.com/github/cornflake15/twitter_sentiment_analysis/blob/update/tweepy-vader.ipynb\" target=\"_parent\"><img src=\"https://colab.research.google.com/assets/colab-badge.svg\" alt=\"Open In Colab\"/></a>"
   ]
  },
  {
   "cell_type": "markdown",
   "metadata": {
    "colab_type": "text",
    "id": "I8U28LIJdPaK"
   },
   "source": [
    "# Twitter Sentiment Analysis"
   ]
  },
  {
   "cell_type": "code",
   "execution_count": 1,
   "metadata": {
    "colab": {},
    "colab_type": "code",
    "id": "-U846JmBdPaM"
   },
   "outputs": [],
   "source": [
    "import tweepy\n",
    "import pandas as pd\n",
    "from vaderSentiment.vaderSentiment import SentimentIntensityAnalyzer"
   ]
  },
  {
   "cell_type": "code",
   "execution_count": 2,
   "metadata": {
    "colab": {},
    "colab_type": "code",
    "id": "D3z0Rkw9dPaQ"
   },
   "outputs": [],
   "source": [
    "CONSUMER_API_KEY = '8fxjhgCnLZie0AjbLuntKT0EM'\n",
    "CONSUMER_API_SECRET = 'd9oab3yrWQybhC64hk5YIXybhuIql20sUWvte2Z8vVQvKtM3Id'\n",
    "ACCESS_TOKEN ='822833106-VKB22OHa8dXm2Hd5sEl5d5gWLmSfaH5EEmjA88DX'\n",
    "ACCESS_TOKEN_SECRET = '22iR0cQfOvSQ77UFKKf4CHNLPvvNYEqzNUkugvubrLMx5'\n",
    "auth = tweepy.OAuthHandler(CONSUMER_API_KEY, CONSUMER_API_SECRET)\n",
    "auth.set_access_token(ACCESS_TOKEN, ACCESS_TOKEN_SECRET)"
   ]
  },
  {
   "cell_type": "markdown",
   "metadata": {
    "colab_type": "text",
    "id": "pfbF1IPPdPaT"
   },
   "source": [
    "### Utility Function"
   ]
  },
  {
   "cell_type": "code",
   "execution_count": 3,
   "metadata": {
    "colab": {},
    "colab_type": "code",
    "id": "3YBmCeWPdPaU"
   },
   "outputs": [],
   "source": [
    "# Function to get trending topic by country name\n",
    "def get_trending_topic_by_country(country, num_trends):\n",
    "    api = tweepy.API(auth, wait_on_rate_limit=True, wait_on_rate_limit_notify=True)\n",
    "    trends_country = api.trends_available()\n",
    "    for trend in trends_country:\n",
    "        if trend['name'] == country:\n",
    "            country_info = (trend['name'], trend['woeid'])\n",
    "            print('Country: {}, WOEID: {}'.format(trend['name'], trend['woeid']))\n",
    "    \n",
    "    index = 1\n",
    "    trending_topics = []\n",
    "    trends_result = api.trends_place(country_info[1])\n",
    "    for tren in trends_result[0]['trends'][:num_trends]: \n",
    "        print('#{}: {}'.format(index, tren['name']))\n",
    "        trending_topics.append(tren['name'])\n",
    "        index += 1\n",
    "        \n",
    "    return trending_topics\n",
    "\n",
    "# Function to get tweets by keyword\n",
    "def get_tweets_by_keyword(keywords, num_of_tweets, language, filename='', export_to_csv=False):\n",
    "    \"\"\"\n",
    "    Use this function if you want export the tweet to CSV file\n",
    "    keywords: tweet keyword\n",
    "    num_of_tweets: number of tweets that your want to fetch\n",
    "    language: tweet language\n",
    "    filename: filename\n",
    "    \"\"\"\n",
    "    api = tweepy.API(auth, wait_on_rate_limit=True, wait_on_rate_limit_notify=True)\n",
    "    tweets = tweepy.Cursor(api.search, q=keywords, lang=language).items(num_of_tweets)\n",
    "    \n",
    "    # These are all I can get with free Twitter API, you can get more with the premium one\n",
    "    dt_tweets = [[tweet.user.name, tweet.user.screen_name, tweet.user.location, \n",
    "                  tweet.user.verified, tweet.user.followers_count,\n",
    "                  tweet.user.friends_count, tweet.user.listed_count, \n",
    "                  tweet.created_at, tweet.text, tweet.coordinates, \n",
    "                  tweet.place, tweet.favorite_count] for tweet in tweets]\n",
    "    \n",
    "    df_tweets = pd.DataFrame(data=dt_tweets)\n",
    "    df_tweets.columns = ['username', 'screen_name', 'user_location', 'user_verified', \n",
    "                     'followers_count', 'friends_count', 'listed_count', 'tweet_created_at',\n",
    "                     'tweet_text', 'tweet_coordinates', 'tweet_place', 'tweet_favorite_count']\n",
    "    \n",
    "    \n",
    "    if export_to_csv == True:\n",
    "        export_to_csv(df_tweets, filename)\n",
    "        \n",
    "    return df_tweets\n",
    "\n",
    "# Overiding function \n",
    "def get_tweets_by_keyword(keywords, num_of_tweets, language):\n",
    "    \"\"\"\n",
    "    Use this function and its parameter if you don't want export to CSV\n",
    "    \"\"\"\n",
    "    api = tweepy.API(auth, wait_on_rate_limit=True, wait_on_rate_limit_notify=True)\n",
    "    tweets = tweepy.Cursor(api.search, q=keywords, lang=language).items(num_of_tweets)\n",
    "    \n",
    "    # These are all I can get with free Twitter API, you can get more with the premium one\n",
    "    dt_tweets = [[tweet.user.name, tweet.user.screen_name, tweet.user.location, \n",
    "                  tweet.user.verified, tweet.user.followers_count,\n",
    "                  tweet.user.friends_count, tweet.user.listed_count, \n",
    "                  tweet.created_at, tweet.text, tweet.coordinates, \n",
    "                  tweet.place, tweet.favorite_count] for tweet in tweets]\n",
    "    \n",
    "    df_tweets = pd.DataFrame(data=dt_tweets)\n",
    "    df_tweets.columns = ['username', 'screen_name', 'user_location', 'user_verified', \n",
    "                     'followers_count', 'friends_count', 'listed_count', 'tweet_created_at',\n",
    "                     'tweet_text', 'tweet_coordinates', 'tweet_place', 'tweet_favorite_count']\n",
    "        \n",
    "    return df_tweets\n",
    "\n",
    "# Function to remove unwanted string in the tweet\n",
    "def remove_unwanted_string(dataframe):\n",
    "    new_record = []\n",
    "    tweet_text = dataframe.apply(lambda x: str(x).split())\n",
    "    for record in tweet_text:\n",
    "        for text in record:\n",
    "            if 'RT' in text or '@' in text or '#' in text:\n",
    "                record.remove(text)\n",
    "        \n",
    "        new_record.append(' '.join(record))\n",
    "    dataframe = new_record\n",
    "    return dataframe\n",
    "            \n",
    "# Function to print sentiments of the sentence\n",
    "def sentiment_scores(sentence):\n",
    "    # Create a SentimentIntensityAnalyzer object\n",
    "    sid_obj = SentimentIntensityAnalyzer()\n",
    "    \n",
    "    # polarity_scores method of SentimentIntensityAnalyzer\n",
    "    # object gives a sentiment dictionary\n",
    "    # which contains pos, neg, neu, and compoind scores\n",
    "    sentiment_dict = sid_obj.polarity_scores(sentence)\n",
    "    \n",
    "    return sentiment_dict\n",
    "    \n",
    "# Function export to CSV\n",
    "def export_to_csv(dataframe, filename):\n",
    "    print('\\nExported to CSV')\n",
    "    return dataframe.to_csv(filename)"
   ]
  },
  {
   "cell_type": "markdown",
   "metadata": {
    "colab_type": "text",
    "id": "O3R5G2OudPaW"
   },
   "source": [
    "## Get Tweets by trending topics on spesific country"
   ]
  },
  {
   "cell_type": "code",
   "execution_count": 4,
   "metadata": {
    "colab": {},
    "colab_type": "code",
    "id": "USvVNfhkdPaX",
    "outputId": "c88a253d-710b-487c-c799-5c02367c8b55",
    "scrolled": false
   },
   "outputs": [
    {
     "name": "stdout",
     "output_type": "stream",
     "text": [
      "Country: United States, WOEID: 23424977\n",
      "#1: #Suicide\n",
      "#2: Andrew Jackson\n",
      "#3: #BreonnaTalyor\n",
      "#4: #SuperStarBTS\n",
      "#5: Christianity\n",
      "#6: Mel Gibson\n",
      "#7: Bill Simmons\n",
      "#8: Katara\n",
      "#9: Shaun King\n",
      "#10: gowon\n"
     ]
    }
   ],
   "source": [
    "df_tweets_trending = get_trending_topic_by_country('United States', 10)"
   ]
  },
  {
   "cell_type": "markdown",
   "metadata": {
    "colab_type": "text",
    "id": "0viiMJh4dPaa"
   },
   "source": [
    "## Get Tweets by Keyword\n",
    "\n",
    "We can pass trending topic or any keyword as a parameter to the function."
   ]
  },
  {
   "cell_type": "code",
   "execution_count": 20,
   "metadata": {
    "colab": {},
    "colab_type": "code",
    "id": "VkwjbVZNdPab"
   },
   "outputs": [],
   "source": [
    "df_tweets = get_tweets_by_keyword(['covid', 'covid-19'], 100, 'en')"
   ]
  },
  {
   "cell_type": "code",
   "execution_count": 21,
   "metadata": {
    "colab": {},
    "colab_type": "code",
    "id": "73wF6YPDdPad",
    "outputId": "ea877883-aedf-419b-b05c-fd7af1d6b1e0"
   },
   "outputs": [
    {
     "data": {
      "text/html": [
       "<div>\n",
       "<style scoped>\n",
       "    .dataframe tbody tr th:only-of-type {\n",
       "        vertical-align: middle;\n",
       "    }\n",
       "\n",
       "    .dataframe tbody tr th {\n",
       "        vertical-align: top;\n",
       "    }\n",
       "\n",
       "    .dataframe thead th {\n",
       "        text-align: right;\n",
       "    }\n",
       "</style>\n",
       "<table border=\"1\" class=\"dataframe\">\n",
       "  <thead>\n",
       "    <tr style=\"text-align: right;\">\n",
       "      <th></th>\n",
       "      <th>username</th>\n",
       "      <th>screen_name</th>\n",
       "      <th>user_location</th>\n",
       "      <th>user_verified</th>\n",
       "      <th>followers_count</th>\n",
       "      <th>friends_count</th>\n",
       "      <th>listed_count</th>\n",
       "      <th>tweet_created_at</th>\n",
       "      <th>tweet_text</th>\n",
       "      <th>tweet_coordinates</th>\n",
       "      <th>tweet_place</th>\n",
       "      <th>tweet_favorite_count</th>\n",
       "    </tr>\n",
       "  </thead>\n",
       "  <tbody>\n",
       "    <tr>\n",
       "      <th>0</th>\n",
       "      <td>grace⁷⋆ ѕтαу gσℓ∂ ⋆ 🐋</td>\n",
       "      <td>justjiminjamin</td>\n",
       "      <td>방탄소년단</td>\n",
       "      <td>False</td>\n",
       "      <td>1309</td>\n",
       "      <td>2469</td>\n",
       "      <td>11</td>\n",
       "      <td>2020-06-23 07:41:20</td>\n",
       "      <td>RT @erictile_: The reason why America isn’t re...</td>\n",
       "      <td>None</td>\n",
       "      <td>None</td>\n",
       "      <td>0</td>\n",
       "    </tr>\n",
       "    <tr>\n",
       "      <th>1</th>\n",
       "      <td>El Curly Headass🧢</td>\n",
       "      <td>ElCurlyHeadass</td>\n",
       "      <td></td>\n",
       "      <td>False</td>\n",
       "      <td>44</td>\n",
       "      <td>286</td>\n",
       "      <td>0</td>\n",
       "      <td>2020-06-23 07:41:20</td>\n",
       "      <td>RT @erictile_: The reason why America isn’t re...</td>\n",
       "      <td>None</td>\n",
       "      <td>None</td>\n",
       "      <td>0</td>\n",
       "    </tr>\n",
       "    <tr>\n",
       "      <th>2</th>\n",
       "      <td>Future Tesla Owner</td>\n",
       "      <td>voktranes</td>\n",
       "      <td></td>\n",
       "      <td>False</td>\n",
       "      <td>296</td>\n",
       "      <td>702</td>\n",
       "      <td>0</td>\n",
       "      <td>2020-06-23 07:41:20</td>\n",
       "      <td>RT @itskevo254: This is the first year I'm not...</td>\n",
       "      <td>None</td>\n",
       "      <td>None</td>\n",
       "      <td>0</td>\n",
       "    </tr>\n",
       "    <tr>\n",
       "      <th>3</th>\n",
       "      <td>मनीष कुशवाहा</td>\n",
       "      <td>mkushwaha266</td>\n",
       "      <td>उत्तरप्रदेश, भारत</td>\n",
       "      <td>False</td>\n",
       "      <td>2902</td>\n",
       "      <td>2263</td>\n",
       "      <td>2</td>\n",
       "      <td>2020-06-23 07:41:20</td>\n",
       "      <td>RT @ipragyasingh1: #PriyankaJhoothiVadra DM ag...</td>\n",
       "      <td>None</td>\n",
       "      <td>None</td>\n",
       "      <td>0</td>\n",
       "    </tr>\n",
       "    <tr>\n",
       "      <th>4</th>\n",
       "      <td>Lifeisprecious 🎈 🇲🇻🇦🇺🇺🇸</td>\n",
       "      <td>LifeispreciousB</td>\n",
       "      <td>Australia</td>\n",
       "      <td>False</td>\n",
       "      <td>383</td>\n",
       "      <td>1161</td>\n",
       "      <td>7</td>\n",
       "      <td>2020-06-23 07:41:20</td>\n",
       "      <td>RT @tveitdal: The Covid-19 pandemic is threate...</td>\n",
       "      <td>None</td>\n",
       "      <td>None</td>\n",
       "      <td>0</td>\n",
       "    </tr>\n",
       "    <tr>\n",
       "      <th>...</th>\n",
       "      <td>...</td>\n",
       "      <td>...</td>\n",
       "      <td>...</td>\n",
       "      <td>...</td>\n",
       "      <td>...</td>\n",
       "      <td>...</td>\n",
       "      <td>...</td>\n",
       "      <td>...</td>\n",
       "      <td>...</td>\n",
       "      <td>...</td>\n",
       "      <td>...</td>\n",
       "      <td>...</td>\n",
       "    </tr>\n",
       "    <tr>\n",
       "      <th>95</th>\n",
       "      <td>AbdulGaniy</td>\n",
       "      <td>Ajakaiye_</td>\n",
       "      <td>As Allah leads.</td>\n",
       "      <td>False</td>\n",
       "      <td>334</td>\n",
       "      <td>2122</td>\n",
       "      <td>27</td>\n",
       "      <td>2020-06-23 07:41:06</td>\n",
       "      <td>@Gasbytweet And this isn’t trending. https://t...</td>\n",
       "      <td>None</td>\n",
       "      <td>None</td>\n",
       "      <td>0</td>\n",
       "    </tr>\n",
       "    <tr>\n",
       "      <th>96</th>\n",
       "      <td>🍯cami the bear🍯</td>\n",
       "      <td>stovetopbear</td>\n",
       "      <td>Illinois, USA</td>\n",
       "      <td>False</td>\n",
       "      <td>465</td>\n",
       "      <td>905</td>\n",
       "      <td>0</td>\n",
       "      <td>2020-06-23 07:41:06</td>\n",
       "      <td>RT @BeatByBenally: Adding this late but the Na...</td>\n",
       "      <td>None</td>\n",
       "      <td>None</td>\n",
       "      <td>0</td>\n",
       "    </tr>\n",
       "    <tr>\n",
       "      <th>97</th>\n",
       "      <td>National Health Mission Manipur</td>\n",
       "      <td>health_manipur</td>\n",
       "      <td></td>\n",
       "      <td>False</td>\n",
       "      <td>1014</td>\n",
       "      <td>273</td>\n",
       "      <td>0</td>\n",
       "      <td>2020-06-23 07:41:06</td>\n",
       "      <td>RT @airnews_imphal: #Manipur: Churachandpur Di...</td>\n",
       "      <td>None</td>\n",
       "      <td>None</td>\n",
       "      <td>0</td>\n",
       "    </tr>\n",
       "    <tr>\n",
       "      <th>98</th>\n",
       "      <td>ur fav</td>\n",
       "      <td>ihylaureennn</td>\n",
       "      <td></td>\n",
       "      <td>False</td>\n",
       "      <td>161</td>\n",
       "      <td>149</td>\n",
       "      <td>0</td>\n",
       "      <td>2020-06-23 07:41:05</td>\n",
       "      <td>RT @erictile_: The reason why America isn’t re...</td>\n",
       "      <td>None</td>\n",
       "      <td>None</td>\n",
       "      <td>0</td>\n",
       "    </tr>\n",
       "    <tr>\n",
       "      <th>99</th>\n",
       "      <td>venus</td>\n",
       "      <td>ferlindad</td>\n",
       "      <td></td>\n",
       "      <td>False</td>\n",
       "      <td>655</td>\n",
       "      <td>339</td>\n",
       "      <td>0</td>\n",
       "      <td>2020-06-23 07:41:05</td>\n",
       "      <td>RT @zeefa64: It only took 36 hours to get this...</td>\n",
       "      <td>None</td>\n",
       "      <td>None</td>\n",
       "      <td>0</td>\n",
       "    </tr>\n",
       "  </tbody>\n",
       "</table>\n",
       "<p>100 rows × 12 columns</p>\n",
       "</div>"
      ],
      "text/plain": [
       "                           username      screen_name      user_location  \\\n",
       "0             grace⁷⋆ ѕтαу gσℓ∂ ⋆ 🐋   justjiminjamin              방탄소년단   \n",
       "1                 El Curly Headass🧢   ElCurlyHeadass                      \n",
       "2                Future Tesla Owner        voktranes                      \n",
       "3                      मनीष कुशवाहा     mkushwaha266  उत्तरप्रदेश, भारत   \n",
       "4           Lifeisprecious 🎈 🇲🇻🇦🇺🇺🇸  LifeispreciousB          Australia   \n",
       "..                              ...              ...                ...   \n",
       "95                       AbdulGaniy        Ajakaiye_    As Allah leads.   \n",
       "96                  🍯cami the bear🍯     stovetopbear      Illinois, USA   \n",
       "97  National Health Mission Manipur   health_manipur                      \n",
       "98                           ur fav     ihylaureennn                      \n",
       "99                            venus        ferlindad                      \n",
       "\n",
       "    user_verified  followers_count  friends_count  listed_count  \\\n",
       "0           False             1309           2469            11   \n",
       "1           False               44            286             0   \n",
       "2           False              296            702             0   \n",
       "3           False             2902           2263             2   \n",
       "4           False              383           1161             7   \n",
       "..            ...              ...            ...           ...   \n",
       "95          False              334           2122            27   \n",
       "96          False              465            905             0   \n",
       "97          False             1014            273             0   \n",
       "98          False              161            149             0   \n",
       "99          False              655            339             0   \n",
       "\n",
       "      tweet_created_at                                         tweet_text  \\\n",
       "0  2020-06-23 07:41:20  RT @erictile_: The reason why America isn’t re...   \n",
       "1  2020-06-23 07:41:20  RT @erictile_: The reason why America isn’t re...   \n",
       "2  2020-06-23 07:41:20  RT @itskevo254: This is the first year I'm not...   \n",
       "3  2020-06-23 07:41:20  RT @ipragyasingh1: #PriyankaJhoothiVadra DM ag...   \n",
       "4  2020-06-23 07:41:20  RT @tveitdal: The Covid-19 pandemic is threate...   \n",
       "..                 ...                                                ...   \n",
       "95 2020-06-23 07:41:06  @Gasbytweet And this isn’t trending. https://t...   \n",
       "96 2020-06-23 07:41:06  RT @BeatByBenally: Adding this late but the Na...   \n",
       "97 2020-06-23 07:41:06  RT @airnews_imphal: #Manipur: Churachandpur Di...   \n",
       "98 2020-06-23 07:41:05  RT @erictile_: The reason why America isn’t re...   \n",
       "99 2020-06-23 07:41:05  RT @zeefa64: It only took 36 hours to get this...   \n",
       "\n",
       "   tweet_coordinates tweet_place  tweet_favorite_count  \n",
       "0               None        None                     0  \n",
       "1               None        None                     0  \n",
       "2               None        None                     0  \n",
       "3               None        None                     0  \n",
       "4               None        None                     0  \n",
       "..               ...         ...                   ...  \n",
       "95              None        None                     0  \n",
       "96              None        None                     0  \n",
       "97              None        None                     0  \n",
       "98              None        None                     0  \n",
       "99              None        None                     0  \n",
       "\n",
       "[100 rows x 12 columns]"
      ]
     },
     "execution_count": 21,
     "metadata": {},
     "output_type": "execute_result"
    }
   ],
   "source": [
    "df_tweets"
   ]
  },
  {
   "cell_type": "code",
   "execution_count": 22,
   "metadata": {
    "colab": {},
    "colab_type": "code",
    "id": "5v2lKqHFdPah",
    "outputId": "9c7f3878-3a79-43d4-fda6-e035c433565b"
   },
   "outputs": [
    {
     "data": {
      "text/plain": [
       "'RT @erictile_: The reason why America isn’t recovering from COVID-19 as quickly as other countries is because we are a country that values…'"
      ]
     },
     "execution_count": 22,
     "metadata": {},
     "output_type": "execute_result"
    }
   ],
   "source": [
    "df_tweets['tweet_text'][1]"
   ]
  },
  {
   "cell_type": "markdown",
   "metadata": {
    "colab_type": "text",
    "id": "q8rysDxEdPaj"
   },
   "source": [
    "## Remove Unwanted String from Tweets"
   ]
  },
  {
   "cell_type": "code",
   "execution_count": 23,
   "metadata": {
    "colab": {},
    "colab_type": "code",
    "id": "u1Gk4liTdPaj",
    "outputId": "f63c8695-d2c0-4c36-c05f-389dc2762a38",
    "scrolled": false
   },
   "outputs": [
    {
     "name": "stdout",
     "output_type": "stream",
     "text": [
      "0     @erictile_: The reason why America isn’t recov...\n",
      "1     @erictile_: The reason why America isn’t recov...\n",
      "2     @itskevo254: This is the first year I'm not go...\n",
      "3     @ipragyasingh1: DM agra has issued u a notice ...\n",
      "4     @tveitdal: The Covid-19 pandemic is threatenin...\n",
      "                            ...                        \n",
      "95     And this isn’t trending. https://t.co/vbzK1VUcSG\n",
      "96    @BeatByBenally: Adding this late but the Navaj...\n",
      "97    @airnews_imphal: Churachandpur District Hospit...\n",
      "98    @erictile_: The reason why America isn’t recov...\n",
      "99    @zeefa64: It only took 36 hours to get this ne...\n",
      "Name: tweet_text, Length: 100, dtype: object\n"
     ]
    }
   ],
   "source": [
    "df_tweets['tweet_text'] = remove_unwanted_string(df_tweets['tweet_text'])\n",
    "print(df_tweets['tweet_text'])"
   ]
  },
  {
   "cell_type": "code",
   "execution_count": 24,
   "metadata": {},
   "outputs": [
    {
     "name": "stdout",
     "output_type": "stream",
     "text": [
      "\n",
      "Exported to CSV\n"
     ]
    }
   ],
   "source": [
    "export_to_csv(df_tweets['tweet_text'], '../dataset/tweet_sample_100.csv')"
   ]
  },
  {
   "cell_type": "markdown",
   "metadata": {
    "colab_type": "text",
    "id": "Ih6Hv5JqdPal"
   },
   "source": [
    "## Tweet Sentiment with VaderSentiment library/module\n",
    "\n",
    "Note: Can not support Indonesian language"
   ]
  },
  {
   "cell_type": "code",
   "execution_count": null,
   "metadata": {
    "colab": {},
    "colab_type": "code",
    "id": "11cv0zAgdPam"
   },
   "outputs": [],
   "source": [
    "pos, neg, neu, comp = [], [], [], []\n",
    "for text in df_tweets['tweet_text']:\n",
    "    sentiment = sentiment_scores(text)\n",
    "    pos.append(sentiment['pos'])\n",
    "    neg.append(sentiment['neg'])\n",
    "    neu.append(sentiment['neu'])\n",
    "    comp.append(sentiment['compound'])\n",
    "    \n",
    "df_tweets_sentiment = pd.DataFrame()\n",
    "# df_tweets_sentiment.columns = ['tweet_text', 'positive', 'negative', 'neutral', 'compound']\n",
    "df_tweets_sentiment['tweet_text'] = df_tweets['tweet_text']\n",
    "df_tweets_sentiment['positive'] = pos\n",
    "df_tweets_sentiment['negative'] = neg\n",
    "df_tweets_sentiment['neutral'] = neu\n",
    "df_tweets_sentiment['compound'] = comp"
   ]
  },
  {
   "cell_type": "code",
   "execution_count": null,
   "metadata": {
    "colab": {},
    "colab_type": "code",
    "id": "kJHkSwimdPao",
    "outputId": "722660d8-dab4-44c6-9f73-fd493c71f459"
   },
   "outputs": [
    {
     "data": {
      "text/html": [
       "<div>\n",
       "<style scoped>\n",
       "    .dataframe tbody tr th:only-of-type {\n",
       "        vertical-align: middle;\n",
       "    }\n",
       "\n",
       "    .dataframe tbody tr th {\n",
       "        vertical-align: top;\n",
       "    }\n",
       "\n",
       "    .dataframe thead th {\n",
       "        text-align: right;\n",
       "    }\n",
       "</style>\n",
       "<table border=\"1\" class=\"dataframe\">\n",
       "  <thead>\n",
       "    <tr style=\"text-align: right;\">\n",
       "      <th></th>\n",
       "      <th>tweet_text</th>\n",
       "      <th>positive</th>\n",
       "      <th>negative</th>\n",
       "      <th>neutral</th>\n",
       "      <th>compound</th>\n",
       "    </tr>\n",
       "  </thead>\n",
       "  <tbody>\n",
       "    <tr>\n",
       "      <th>0</th>\n",
       "      <td>@ScottGo18320060: COVID-19 Hoax - The Crime of...</td>\n",
       "      <td>0.101</td>\n",
       "      <td>0.176</td>\n",
       "      <td>0.723</td>\n",
       "      <td>-0.3400</td>\n",
       "    </tr>\n",
       "    <tr>\n",
       "      <th>1</th>\n",
       "      <td>@firstpost: L-G Anil Baijal ordered a 5-day ma...</td>\n",
       "      <td>0.085</td>\n",
       "      <td>0.000</td>\n",
       "      <td>0.915</td>\n",
       "      <td>0.0772</td>\n",
       "    </tr>\n",
       "    <tr>\n",
       "      <th>2</th>\n",
       "      <td>@Dhama_IPS: In our effort to contain Corona st...</td>\n",
       "      <td>0.000</td>\n",
       "      <td>0.000</td>\n",
       "      <td>1.000</td>\n",
       "      <td>0.0000</td>\n",
       "    </tr>\n",
       "    <tr>\n",
       "      <th>3</th>\n",
       "      <td>@brayson_lema: Being of service is by itself a...</td>\n",
       "      <td>0.123</td>\n",
       "      <td>0.083</td>\n",
       "      <td>0.795</td>\n",
       "      <td>0.2960</td>\n",
       "    </tr>\n",
       "    <tr>\n",
       "      <th>4</th>\n",
       "      <td>@f9hiMNCLFeo39HS: Containment of the new crisi...</td>\n",
       "      <td>0.000</td>\n",
       "      <td>0.177</td>\n",
       "      <td>0.823</td>\n",
       "      <td>-0.6249</td>\n",
       "    </tr>\n",
       "    <tr>\n",
       "      <th>5</th>\n",
       "      <td>@hemantrajora_: Big Story : In AIIMS Delhi, 13...</td>\n",
       "      <td>0.153</td>\n",
       "      <td>0.000</td>\n",
       "      <td>0.847</td>\n",
       "      <td>0.5574</td>\n",
       "    </tr>\n",
       "    <tr>\n",
       "      <th>6</th>\n",
       "      <td>@Dhama_IPS: In our effort to contain Corona st...</td>\n",
       "      <td>0.000</td>\n",
       "      <td>0.000</td>\n",
       "      <td>1.000</td>\n",
       "      <td>0.0000</td>\n",
       "    </tr>\n",
       "    <tr>\n",
       "      <th>7</th>\n",
       "      <td>@hemantrajora_: Big Story : In AIIMS Delhi, 13...</td>\n",
       "      <td>0.153</td>\n",
       "      <td>0.000</td>\n",
       "      <td>0.847</td>\n",
       "      <td>0.5574</td>\n",
       "    </tr>\n",
       "    <tr>\n",
       "      <th>8</th>\n",
       "      <td>Homemade healthy vegetable juice recipe. Read ...</td>\n",
       "      <td>0.213</td>\n",
       "      <td>0.000</td>\n",
       "      <td>0.787</td>\n",
       "      <td>0.4019</td>\n",
       "    </tr>\n",
       "    <tr>\n",
       "      <th>9</th>\n",
       "      <td>@ARSHAD7649: If you are too close, you can bre...</td>\n",
       "      <td>0.000</td>\n",
       "      <td>0.000</td>\n",
       "      <td>1.000</td>\n",
       "      <td>0.0000</td>\n",
       "    </tr>\n",
       "  </tbody>\n",
       "</table>\n",
       "</div>"
      ],
      "text/plain": [
       "                                          tweet_text  positive  negative  \\\n",
       "0  @ScottGo18320060: COVID-19 Hoax - The Crime of...     0.101     0.176   \n",
       "1  @firstpost: L-G Anil Baijal ordered a 5-day ma...     0.085     0.000   \n",
       "2  @Dhama_IPS: In our effort to contain Corona st...     0.000     0.000   \n",
       "3  @brayson_lema: Being of service is by itself a...     0.123     0.083   \n",
       "4  @f9hiMNCLFeo39HS: Containment of the new crisi...     0.000     0.177   \n",
       "5  @hemantrajora_: Big Story : In AIIMS Delhi, 13...     0.153     0.000   \n",
       "6  @Dhama_IPS: In our effort to contain Corona st...     0.000     0.000   \n",
       "7  @hemantrajora_: Big Story : In AIIMS Delhi, 13...     0.153     0.000   \n",
       "8  Homemade healthy vegetable juice recipe. Read ...     0.213     0.000   \n",
       "9  @ARSHAD7649: If you are too close, you can bre...     0.000     0.000   \n",
       "\n",
       "   neutral  compound  \n",
       "0    0.723   -0.3400  \n",
       "1    0.915    0.0772  \n",
       "2    1.000    0.0000  \n",
       "3    0.795    0.2960  \n",
       "4    0.823   -0.6249  \n",
       "5    0.847    0.5574  \n",
       "6    1.000    0.0000  \n",
       "7    0.847    0.5574  \n",
       "8    0.787    0.4019  \n",
       "9    1.000    0.0000  "
      ]
     },
     "execution_count": 10,
     "metadata": {
      "tags": []
     },
     "output_type": "execute_result"
    }
   ],
   "source": [
    "df_tweets_sentiment"
   ]
  },
  {
   "cell_type": "markdown",
   "metadata": {
    "colab_type": "text",
    "id": "CNmBmg0qdPaq"
   },
   "source": [
    "Detail information about the output visit https://github.com/cjhutto/vaderSentiment"
   ]
  }
 ],
 "metadata": {
  "colab": {
   "include_colab_link": true,
   "name": "tweepy-vader.ipynb",
   "provenance": []
  },
  "kernelspec": {
   "display_name": "Python 3",
   "language": "python",
   "name": "python3"
  },
  "language_info": {
   "codemirror_mode": {
    "name": "ipython",
    "version": 3
   },
   "file_extension": ".py",
   "mimetype": "text/x-python",
   "name": "python",
   "nbconvert_exporter": "python",
   "pygments_lexer": "ipython3",
   "version": "3.8.3"
  }
 },
 "nbformat": 4,
 "nbformat_minor": 1
}
