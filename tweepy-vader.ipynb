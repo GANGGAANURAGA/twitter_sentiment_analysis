{
 "cells": [
  {
   "cell_type": "markdown",
   "metadata": {},
   "source": [
    "[![Open In Colab](https://colab.research.google.com/assets/colab-badge.svg)](https://colab.research.google.com/github/cornflake15/twitter_sentiment_analysis/blob/master/tweepy-vader.ipynb)"
   ]
  },
  {
   "cell_type": "markdown",
   "metadata": {},
   "source": [
    "# Twitter Sentiment Analysis"
   ]
  },
  {
   "cell_type": "code",
   "execution_count": 1,
   "metadata": {},
   "outputs": [],
   "source": [
    "import tweepy\n",
    "import pandas as pd\n",
    "from vaderSentiment.vaderSentiment import SentimentIntensityAnalyzer"
   ]
  },
  {
   "cell_type": "code",
   "execution_count": 2,
   "metadata": {},
   "outputs": [],
   "source": [
    "CONSUMER_API_KEY = '8fxjhgCnLZie0AjbLuntKT0EM'\n",
    "CONSUMER_API_SECRET = 'd9oab3yrWQybhC64hk5YIXybhuIql20sUWvte2Z8vVQvKtM3Id'\n",
    "ACCESS_TOKEN ='822833106-VKB22OHa8dXm2Hd5sEl5d5gWLmSfaH5EEmjA88DX'\n",
    "ACCESS_TOKEN_SECRET = '22iR0cQfOvSQ77UFKKf4CHNLPvvNYEqzNUkugvubrLMx5'\n",
    "auth = tweepy.OAuthHandler(CONSUMER_API_KEY, CONSUMER_API_SECRET)\n",
    "auth.set_access_token(ACCESS_TOKEN, ACCESS_TOKEN_SECRET)"
   ]
  },
  {
   "cell_type": "markdown",
   "metadata": {},
   "source": [
    "### Utility Function"
   ]
  },
  {
   "cell_type": "code",
   "execution_count": 3,
   "metadata": {},
   "outputs": [],
   "source": [
    "# Function to get trending topic by country name\n",
    "def get_trending_topic_by_country(country, num_trends):\n",
    "    api = tweepy.API(auth, wait_on_rate_limit=True, wait_on_rate_limit_notify=True)\n",
    "    trends_country = api.trends_available()\n",
    "    for trend in trends_country:\n",
    "        if trend['name'] == country:\n",
    "            country_info = (trend['name'], trend['woeid'])\n",
    "            print('Country: {}, WOEID: {}'.format(trend['name'], trend['woeid']))\n",
    "    \n",
    "    index = 1\n",
    "    trending_topics = []\n",
    "    trends_result = api.trends_place(country_info[1])\n",
    "    for tren in trends_result[0]['trends'][:num_trends]: \n",
    "        print('#{}: {}'.format(index, tren['name']))\n",
    "        trending_topics.append(tren['name'])\n",
    "        index += 1\n",
    "        \n",
    "    return trending_topics\n",
    "\n",
    "# Function to get tweets by keyword\n",
    "def get_tweets_by_keyword(keywords, num_of_tweets, language, filename='', export_to_csv=False):\n",
    "    \"\"\"\n",
    "    Use this function if you want export the tweet to CSV file\n",
    "    keywords: tweet keyword\n",
    "    num_of_tweets: number of tweets that your want to fetch\n",
    "    language: tweet language\n",
    "    filename: filename\n",
    "    \"\"\"\n",
    "    api = tweepy.API(auth, wait_on_rate_limit=True, wait_on_rate_limit_notify=True)\n",
    "    tweets = tweepy.Cursor(api.search, q=keywords, lang=language).items(num_of_tweets)\n",
    "    \n",
    "    # These are all I can get with free Twitter API, you can get more with the premium one\n",
    "    dt_tweets = [[tweet.user.name, tweet.user.screen_name, tweet.user.location, \n",
    "                  tweet.user.verified, tweet.user.followers_count,\n",
    "                  tweet.user.friends_count, tweet.user.listed_count, \n",
    "                  tweet.created_at, tweet.text, tweet.coordinates, \n",
    "                  tweet.place, tweet.favorite_count] for tweet in tweets]\n",
    "    \n",
    "    df_tweets = pd.DataFrame(data=dt_tweets)\n",
    "    df_tweets.columns = ['username', 'screen_name', 'user_location', 'user_verified', \n",
    "                     'followers_count', 'friends_count', 'listed_count', 'tweet_created_at',\n",
    "                     'tweet_text', 'tweet_coordinates', 'tweet_place', 'tweet_favorite_count']\n",
    "    \n",
    "    \n",
    "    if export_to_csv == True:\n",
    "        export_to_csv(df_tweets, filename)\n",
    "        \n",
    "    return df_tweets\n",
    "\n",
    "# Overiding function \n",
    "def get_tweets_by_keyword(keywords, num_of_tweets, language):\n",
    "    \"\"\"\n",
    "    Use this function and its parameter if you don't want export to CSV\n",
    "    \"\"\"\n",
    "    api = tweepy.API(auth, wait_on_rate_limit=True, wait_on_rate_limit_notify=True)\n",
    "    tweets = tweepy.Cursor(api.search, q=keywords, lang=language).items(num_of_tweets)\n",
    "    \n",
    "    # These are all I can get with free Twitter API, you can get more with the premium one\n",
    "    dt_tweets = [[tweet.user.name, tweet.user.screen_name, tweet.user.location, \n",
    "                  tweet.user.verified, tweet.user.followers_count,\n",
    "                  tweet.user.friends_count, tweet.user.listed_count, \n",
    "                  tweet.created_at, tweet.text, tweet.coordinates, \n",
    "                  tweet.place, tweet.favorite_count] for tweet in tweets]\n",
    "    \n",
    "    df_tweets = pd.DataFrame(data=dt_tweets)\n",
    "    df_tweets.columns = ['username', 'screen_name', 'user_location', 'user_verified', \n",
    "                     'followers_count', 'friends_count', 'listed_count', 'tweet_created_at',\n",
    "                     'tweet_text', 'tweet_coordinates', 'tweet_place', 'tweet_favorite_count']\n",
    "        \n",
    "    return df_tweets\n",
    "\n",
    "# Function to remove unwanted string in the tweet\n",
    "def remove_unwanted_string(dataframe):\n",
    "    new_record = []\n",
    "    tweet_text = dataframe.apply(lambda x: str(x).split())\n",
    "    for record in tweet_text:\n",
    "        for text in record:\n",
    "            if 'RT' in text or '@' in text or '#' in text:\n",
    "                record.remove(text)\n",
    "        \n",
    "        new_record.append(' '.join(record))\n",
    "    dataframe = new_record\n",
    "    return dataframe\n",
    "            \n",
    "# Function to print sentiments of the sentence\n",
    "def sentiment_scores(sentence):\n",
    "    # Create a SentimentIntensityAnalyzer object\n",
    "    sid_obj = SentimentIntensityAnalyzer()\n",
    "    \n",
    "    # polarity_scores method of SentimentIntensityAnalyzer\n",
    "    # object gives a sentiment dictionary\n",
    "    # which contains pos, neg, neu, and compoind scores\n",
    "    sentiment_dict = sid_obj.polarity_scores(sentence)\n",
    "    \n",
    "    return sentiment_dict\n",
    "    \n",
    "# Function export to CSV\n",
    "def export_to_csv(dataframe, filename):\n",
    "    print('\\nExported to CSV')\n",
    "    return dataframe.to_csv(filename)"
   ]
  },
  {
   "cell_type": "markdown",
   "metadata": {},
   "source": [
    "## Get Tweets by trending topics on spesific country"
   ]
  },
  {
   "cell_type": "code",
   "execution_count": 4,
   "metadata": {
    "scrolled": false
   },
   "outputs": [
    {
     "name": "stdout",
     "output_type": "stream",
     "text": [
      "Country: Indonesia, WOEID: 23424846\n",
      "#1: Johnny\n",
      "#2: #InstitutPalingBorjuis\n",
      "#3: #globallivefmxbrightwin\n",
      "#4: #PKS_SarangKadrun\n",
      "#5: S.Pd\n",
      "#6: Hendri\n",
      "#7: #YOUNGJAEXDINGO\n",
      "#8: #WeekendSamaShopee\n",
      "#9: Klasifikasi\n",
      "#10: jhonny\n"
     ]
    }
   ],
   "source": [
    "df_tweets_trending = get_trending_topic_by_country('Indonesia', 10)"
   ]
  },
  {
   "cell_type": "markdown",
   "metadata": {},
   "source": [
    "## Get Tweets by Keyword\n",
    "\n",
    "We can pass trending topic or any keyword as a parameter to the function."
   ]
  },
  {
   "cell_type": "code",
   "execution_count": 5,
   "metadata": {},
   "outputs": [],
   "source": [
    "df_tweets = get_tweets_by_keyword(['corona', 'COVID-19'], 10, 'en')"
   ]
  },
  {
   "cell_type": "code",
   "execution_count": 6,
   "metadata": {},
   "outputs": [
    {
     "data": {
      "text/html": [
       "<div>\n",
       "<style scoped>\n",
       "    .dataframe tbody tr th:only-of-type {\n",
       "        vertical-align: middle;\n",
       "    }\n",
       "\n",
       "    .dataframe tbody tr th {\n",
       "        vertical-align: top;\n",
       "    }\n",
       "\n",
       "    .dataframe thead th {\n",
       "        text-align: right;\n",
       "    }\n",
       "</style>\n",
       "<table border=\"1\" class=\"dataframe\">\n",
       "  <thead>\n",
       "    <tr style=\"text-align: right;\">\n",
       "      <th></th>\n",
       "      <th>username</th>\n",
       "      <th>screen_name</th>\n",
       "      <th>user_location</th>\n",
       "      <th>user_verified</th>\n",
       "      <th>followers_count</th>\n",
       "      <th>friends_count</th>\n",
       "      <th>listed_count</th>\n",
       "      <th>tweet_created_at</th>\n",
       "      <th>tweet_text</th>\n",
       "      <th>tweet_coordinates</th>\n",
       "      <th>tweet_place</th>\n",
       "      <th>tweet_favorite_count</th>\n",
       "    </tr>\n",
       "  </thead>\n",
       "  <tbody>\n",
       "    <tr>\n",
       "      <th>0</th>\n",
       "      <td>Susie Swanson</td>\n",
       "      <td>SusanMSwanson1</td>\n",
       "      <td>NY</td>\n",
       "      <td>False</td>\n",
       "      <td>136</td>\n",
       "      <td>292</td>\n",
       "      <td>0</td>\n",
       "      <td>2020-06-20 11:11:11</td>\n",
       "      <td>RT @ScottGo18320060: COVID-19 Hoax - The Crime...</td>\n",
       "      <td>None</td>\n",
       "      <td>None</td>\n",
       "      <td>0</td>\n",
       "    </tr>\n",
       "    <tr>\n",
       "      <th>1</th>\n",
       "      <td>Naresh Kumar Singh</td>\n",
       "      <td>AdvBsr</td>\n",
       "      <td>Race Corse Colony Buland Shahr</td>\n",
       "      <td>False</td>\n",
       "      <td>694</td>\n",
       "      <td>165</td>\n",
       "      <td>4</td>\n",
       "      <td>2020-06-20 11:10:59</td>\n",
       "      <td>RT @firstpost: L-G Anil Baijal ordered a 5-day...</td>\n",
       "      <td>None</td>\n",
       "      <td>None</td>\n",
       "      <td>0</td>\n",
       "    </tr>\n",
       "    <tr>\n",
       "      <th>2</th>\n",
       "      <td>Jammu Kashmir &amp; Ladakh Police Fans Club 🇮🇳 🍁</td>\n",
       "      <td>jkpsfc</td>\n",
       "      <td>Jammu And Kashmir, Bharat</td>\n",
       "      <td>False</td>\n",
       "      <td>11572</td>\n",
       "      <td>8186</td>\n",
       "      <td>45</td>\n",
       "      <td>2020-06-20 11:10:28</td>\n",
       "      <td>RT @Dhama_IPS: In our effort to contain Corona...</td>\n",
       "      <td>None</td>\n",
       "      <td>None</td>\n",
       "      <td>0</td>\n",
       "    </tr>\n",
       "    <tr>\n",
       "      <th>3</th>\n",
       "      <td>Salumu Mtaturu</td>\n",
       "      <td>mtaturu_salumu</td>\n",
       "      <td>Mwanza, Tanzania</td>\n",
       "      <td>False</td>\n",
       "      <td>192</td>\n",
       "      <td>213</td>\n",
       "      <td>0</td>\n",
       "      <td>2020-06-20 11:10:27</td>\n",
       "      <td>RT @brayson_lema: Being of service is by itsel...</td>\n",
       "      <td>None</td>\n",
       "      <td>None</td>\n",
       "      <td>0</td>\n",
       "    </tr>\n",
       "    <tr>\n",
       "      <th>4</th>\n",
       "      <td>Subham Paul</td>\n",
       "      <td>SubhamP84280622</td>\n",
       "      <td></td>\n",
       "      <td>False</td>\n",
       "      <td>0</td>\n",
       "      <td>2</td>\n",
       "      <td>0</td>\n",
       "      <td>2020-06-20 11:10:08</td>\n",
       "      <td>RT @f9hiMNCLFeo39HS: @ImranKhanPTI Containment...</td>\n",
       "      <td>None</td>\n",
       "      <td>None</td>\n",
       "      <td>0</td>\n",
       "    </tr>\n",
       "  </tbody>\n",
       "</table>\n",
       "</div>"
      ],
      "text/plain": [
       "                                       username      screen_name  \\\n",
       "0                                 Susie Swanson   SusanMSwanson1   \n",
       "1                            Naresh Kumar Singh           AdvBsr   \n",
       "2  Jammu Kashmir & Ladakh Police Fans Club 🇮🇳 🍁           jkpsfc   \n",
       "3                                Salumu Mtaturu   mtaturu_salumu   \n",
       "4                                   Subham Paul  SubhamP84280622   \n",
       "\n",
       "                    user_location  user_verified  followers_count  \\\n",
       "0                              NY          False              136   \n",
       "1  Race Corse Colony Buland Shahr          False              694   \n",
       "2       Jammu And Kashmir, Bharat          False            11572   \n",
       "3                Mwanza, Tanzania          False              192   \n",
       "4                                          False                0   \n",
       "\n",
       "   friends_count  listed_count    tweet_created_at  \\\n",
       "0            292             0 2020-06-20 11:11:11   \n",
       "1            165             4 2020-06-20 11:10:59   \n",
       "2           8186            45 2020-06-20 11:10:28   \n",
       "3            213             0 2020-06-20 11:10:27   \n",
       "4              2             0 2020-06-20 11:10:08   \n",
       "\n",
       "                                          tweet_text tweet_coordinates  \\\n",
       "0  RT @ScottGo18320060: COVID-19 Hoax - The Crime...              None   \n",
       "1  RT @firstpost: L-G Anil Baijal ordered a 5-day...              None   \n",
       "2  RT @Dhama_IPS: In our effort to contain Corona...              None   \n",
       "3  RT @brayson_lema: Being of service is by itsel...              None   \n",
       "4  RT @f9hiMNCLFeo39HS: @ImranKhanPTI Containment...              None   \n",
       "\n",
       "  tweet_place  tweet_favorite_count  \n",
       "0        None                     0  \n",
       "1        None                     0  \n",
       "2        None                     0  \n",
       "3        None                     0  \n",
       "4        None                     0  "
      ]
     },
     "execution_count": 6,
     "metadata": {},
     "output_type": "execute_result"
    }
   ],
   "source": [
    "df_tweets.head()"
   ]
  },
  {
   "cell_type": "code",
   "execution_count": 7,
   "metadata": {},
   "outputs": [
    {
     "data": {
      "text/plain": [
       "'RT @firstpost: L-G Anil Baijal ordered a 5-day mandatory institutional-quarantine for every #COVID19 patient under home-isolation in #Delhi…'"
      ]
     },
     "execution_count": 7,
     "metadata": {},
     "output_type": "execute_result"
    }
   ],
   "source": [
    "df_tweets['tweet_text'][1]"
   ]
  },
  {
   "cell_type": "markdown",
   "metadata": {},
   "source": [
    "## Remove Unwanted String from Tweets"
   ]
  },
  {
   "cell_type": "code",
   "execution_count": 8,
   "metadata": {
    "scrolled": true
   },
   "outputs": [
    {
     "name": "stdout",
     "output_type": "stream",
     "text": [
      "0    @ScottGo18320060: COVID-19 Hoax - The Crime of...\n",
      "1    @firstpost: L-G Anil Baijal ordered a 5-day ma...\n",
      "2    @Dhama_IPS: In our effort to contain Corona st...\n",
      "3    @brayson_lema: Being of service is by itself a...\n",
      "4    @f9hiMNCLFeo39HS: Containment of the new crisi...\n",
      "5    @hemantrajora_: Big Story : In AIIMS Delhi, 13...\n",
      "6    @Dhama_IPS: In our effort to contain Corona st...\n",
      "7    @hemantrajora_: Big Story : In AIIMS Delhi, 13...\n",
      "8    Homemade healthy vegetable juice recipe. Read ...\n",
      "9    @ARSHAD7649: If you are too close, you can bre...\n",
      "Name: tweet_text, dtype: object\n"
     ]
    }
   ],
   "source": [
    "df_tweets['tweet_text'] = remove_unwanted_string(df_tweets['tweet_text'])\n",
    "print(df_tweets['tweet_text'])"
   ]
  },
  {
   "cell_type": "markdown",
   "metadata": {},
   "source": [
    "## Tweet Sentiment with VaderSentiment library/module\n",
    "\n",
    "Note: Can not support Indonesian language"
   ]
  },
  {
   "cell_type": "code",
   "execution_count": 9,
   "metadata": {},
   "outputs": [],
   "source": [
    "pos, neg, neu, comp = [], [], [], []\n",
    "for text in df_tweets['tweet_text']:\n",
    "    sentiment = sentiment_scores(text)\n",
    "    pos.append(sentiment['pos'])\n",
    "    neg.append(sentiment['neg'])\n",
    "    neu.append(sentiment['neu'])\n",
    "    comp.append(sentiment['compound'])\n",
    "    \n",
    "df_tweets_sentiment = pd.DataFrame()\n",
    "# df_tweets_sentiment.columns = ['tweet_text', 'positive', 'negative', 'neutral', 'compound']\n",
    "df_tweets_sentiment['tweet_text'] = df_tweets['tweet_text']\n",
    "df_tweets_sentiment['positive'] = pos\n",
    "df_tweets_sentiment['negative'] = neg\n",
    "df_tweets_sentiment['neutral'] = neu\n",
    "df_tweets_sentiment['compound'] = comp"
   ]
  },
  {
   "cell_type": "code",
   "execution_count": 10,
   "metadata": {},
   "outputs": [
    {
     "data": {
      "text/html": [
       "<div>\n",
       "<style scoped>\n",
       "    .dataframe tbody tr th:only-of-type {\n",
       "        vertical-align: middle;\n",
       "    }\n",
       "\n",
       "    .dataframe tbody tr th {\n",
       "        vertical-align: top;\n",
       "    }\n",
       "\n",
       "    .dataframe thead th {\n",
       "        text-align: right;\n",
       "    }\n",
       "</style>\n",
       "<table border=\"1\" class=\"dataframe\">\n",
       "  <thead>\n",
       "    <tr style=\"text-align: right;\">\n",
       "      <th></th>\n",
       "      <th>tweet_text</th>\n",
       "      <th>positive</th>\n",
       "      <th>negative</th>\n",
       "      <th>neutral</th>\n",
       "      <th>compound</th>\n",
       "    </tr>\n",
       "  </thead>\n",
       "  <tbody>\n",
       "    <tr>\n",
       "      <th>0</th>\n",
       "      <td>@ScottGo18320060: COVID-19 Hoax - The Crime of...</td>\n",
       "      <td>0.101</td>\n",
       "      <td>0.176</td>\n",
       "      <td>0.723</td>\n",
       "      <td>-0.3400</td>\n",
       "    </tr>\n",
       "    <tr>\n",
       "      <th>1</th>\n",
       "      <td>@firstpost: L-G Anil Baijal ordered a 5-day ma...</td>\n",
       "      <td>0.085</td>\n",
       "      <td>0.000</td>\n",
       "      <td>0.915</td>\n",
       "      <td>0.0772</td>\n",
       "    </tr>\n",
       "    <tr>\n",
       "      <th>2</th>\n",
       "      <td>@Dhama_IPS: In our effort to contain Corona st...</td>\n",
       "      <td>0.000</td>\n",
       "      <td>0.000</td>\n",
       "      <td>1.000</td>\n",
       "      <td>0.0000</td>\n",
       "    </tr>\n",
       "    <tr>\n",
       "      <th>3</th>\n",
       "      <td>@brayson_lema: Being of service is by itself a...</td>\n",
       "      <td>0.123</td>\n",
       "      <td>0.083</td>\n",
       "      <td>0.795</td>\n",
       "      <td>0.2960</td>\n",
       "    </tr>\n",
       "    <tr>\n",
       "      <th>4</th>\n",
       "      <td>@f9hiMNCLFeo39HS: Containment of the new crisi...</td>\n",
       "      <td>0.000</td>\n",
       "      <td>0.177</td>\n",
       "      <td>0.823</td>\n",
       "      <td>-0.6249</td>\n",
       "    </tr>\n",
       "    <tr>\n",
       "      <th>5</th>\n",
       "      <td>@hemantrajora_: Big Story : In AIIMS Delhi, 13...</td>\n",
       "      <td>0.153</td>\n",
       "      <td>0.000</td>\n",
       "      <td>0.847</td>\n",
       "      <td>0.5574</td>\n",
       "    </tr>\n",
       "    <tr>\n",
       "      <th>6</th>\n",
       "      <td>@Dhama_IPS: In our effort to contain Corona st...</td>\n",
       "      <td>0.000</td>\n",
       "      <td>0.000</td>\n",
       "      <td>1.000</td>\n",
       "      <td>0.0000</td>\n",
       "    </tr>\n",
       "    <tr>\n",
       "      <th>7</th>\n",
       "      <td>@hemantrajora_: Big Story : In AIIMS Delhi, 13...</td>\n",
       "      <td>0.153</td>\n",
       "      <td>0.000</td>\n",
       "      <td>0.847</td>\n",
       "      <td>0.5574</td>\n",
       "    </tr>\n",
       "    <tr>\n",
       "      <th>8</th>\n",
       "      <td>Homemade healthy vegetable juice recipe. Read ...</td>\n",
       "      <td>0.213</td>\n",
       "      <td>0.000</td>\n",
       "      <td>0.787</td>\n",
       "      <td>0.4019</td>\n",
       "    </tr>\n",
       "    <tr>\n",
       "      <th>9</th>\n",
       "      <td>@ARSHAD7649: If you are too close, you can bre...</td>\n",
       "      <td>0.000</td>\n",
       "      <td>0.000</td>\n",
       "      <td>1.000</td>\n",
       "      <td>0.0000</td>\n",
       "    </tr>\n",
       "  </tbody>\n",
       "</table>\n",
       "</div>"
      ],
      "text/plain": [
       "                                          tweet_text  positive  negative  \\\n",
       "0  @ScottGo18320060: COVID-19 Hoax - The Crime of...     0.101     0.176   \n",
       "1  @firstpost: L-G Anil Baijal ordered a 5-day ma...     0.085     0.000   \n",
       "2  @Dhama_IPS: In our effort to contain Corona st...     0.000     0.000   \n",
       "3  @brayson_lema: Being of service is by itself a...     0.123     0.083   \n",
       "4  @f9hiMNCLFeo39HS: Containment of the new crisi...     0.000     0.177   \n",
       "5  @hemantrajora_: Big Story : In AIIMS Delhi, 13...     0.153     0.000   \n",
       "6  @Dhama_IPS: In our effort to contain Corona st...     0.000     0.000   \n",
       "7  @hemantrajora_: Big Story : In AIIMS Delhi, 13...     0.153     0.000   \n",
       "8  Homemade healthy vegetable juice recipe. Read ...     0.213     0.000   \n",
       "9  @ARSHAD7649: If you are too close, you can bre...     0.000     0.000   \n",
       "\n",
       "   neutral  compound  \n",
       "0    0.723   -0.3400  \n",
       "1    0.915    0.0772  \n",
       "2    1.000    0.0000  \n",
       "3    0.795    0.2960  \n",
       "4    0.823   -0.6249  \n",
       "5    0.847    0.5574  \n",
       "6    1.000    0.0000  \n",
       "7    0.847    0.5574  \n",
       "8    0.787    0.4019  \n",
       "9    1.000    0.0000  "
      ]
     },
     "execution_count": 10,
     "metadata": {},
     "output_type": "execute_result"
    }
   ],
   "source": [
    "df_tweets_sentiment"
   ]
  },
  {
   "cell_type": "markdown",
   "metadata": {},
   "source": [
    "Detail information about the output visit https://github.com/cjhutto/vaderSentiment"
   ]
  }
 ],
 "metadata": {
  "kernelspec": {
   "display_name": "Python 3",
   "language": "python",
   "name": "python3"
  },
  "language_info": {
   "codemirror_mode": {
    "name": "ipython",
    "version": 3
   },
   "file_extension": ".py",
   "mimetype": "text/x-python",
   "name": "python",
   "nbconvert_exporter": "python",
   "pygments_lexer": "ipython3",
   "version": "3.8.3"
  }
 },
 "nbformat": 4,
 "nbformat_minor": 2
}
