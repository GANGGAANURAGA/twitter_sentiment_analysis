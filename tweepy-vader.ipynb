{
  "nbformat": 4,
  "nbformat_minor": 0,
  "metadata": {
    "colab": {
      "name": "tweepy-vader.ipynb",
      "provenance": [],
      "include_colab_link": true
    },
    "kernelspec": {
      "display_name": "Python 3",
      "language": "python",
      "name": "python3"
    },
    "language_info": {
      "codemirror_mode": {
        "name": "ipython",
        "version": 3
      },
      "file_extension": ".py",
      "mimetype": "text/x-python",
      "name": "python",
      "nbconvert_exporter": "python",
      "pygments_lexer": "ipython3",
      "version": "3.8.3"
    }
  },
  "cells": [
    {
      "cell_type": "markdown",
      "metadata": {
        "id": "view-in-github",
        "colab_type": "text"
      },
      "source": [
        "<a href=\"https://colab.research.google.com/github/cornflake15/twitter_sentiment_analysis/blob/master/tweepy-vader.ipynb\" target=\"_parent\"><img src=\"https://colab.research.google.com/assets/colab-badge.svg\" alt=\"Open In Colab\"/></a>"
      ]
    },
    {
      "cell_type": "markdown",
      "metadata": {
        "colab_type": "text",
        "id": "I8U28LIJdPaK"
      },
      "source": [
        "# Twitter Sentiment Analysis"
      ]
    },
    {
      "cell_type": "code",
      "metadata": {
        "id": "inPJ65iFXCBv",
        "colab_type": "code",
        "colab": {
          "base_uri": "https://localhost:8080/",
          "height": 204
        },
        "outputId": "1679d33e-216e-4b12-ffeb-f0b0d6d9c67b"
      },
      "source": [
        "!pip install vaderSentiment # We only need install vaderSentiment if we run it on Colab"
      ],
      "execution_count": 2,
      "outputs": [
        {
          "output_type": "stream",
          "text": [
            "Collecting vaderSentiment\n",
            "\u001b[?25l  Downloading https://files.pythonhosted.org/packages/76/fc/310e16254683c1ed35eeb97386986d6c00bc29df17ce280aed64d55537e9/vaderSentiment-3.3.2-py2.py3-none-any.whl (125kB)\n",
            "\r\u001b[K     |██▋                             | 10kB 17.3MB/s eta 0:00:01\r\u001b[K     |█████▏                          | 20kB 1.7MB/s eta 0:00:01\r\u001b[K     |███████▉                        | 30kB 2.2MB/s eta 0:00:01\r\u001b[K     |██████████▍                     | 40kB 2.5MB/s eta 0:00:01\r\u001b[K     |█████████████                   | 51kB 2.0MB/s eta 0:00:01\r\u001b[K     |███████████████▋                | 61kB 2.3MB/s eta 0:00:01\r\u001b[K     |██████████████████▏             | 71kB 2.5MB/s eta 0:00:01\r\u001b[K     |████████████████████▉           | 81kB 2.7MB/s eta 0:00:01\r\u001b[K     |███████████████████████▍        | 92kB 2.9MB/s eta 0:00:01\r\u001b[K     |██████████████████████████      | 102kB 2.8MB/s eta 0:00:01\r\u001b[K     |████████████████████████████▋   | 112kB 2.8MB/s eta 0:00:01\r\u001b[K     |███████████████████████████████▏| 122kB 2.8MB/s eta 0:00:01\r\u001b[K     |████████████████████████████████| 133kB 2.8MB/s \n",
            "\u001b[?25hRequirement already satisfied: requests in /usr/local/lib/python3.6/dist-packages (from vaderSentiment) (2.23.0)\n",
            "Requirement already satisfied: idna<3,>=2.5 in /usr/local/lib/python3.6/dist-packages (from requests->vaderSentiment) (2.9)\n",
            "Requirement already satisfied: chardet<4,>=3.0.2 in /usr/local/lib/python3.6/dist-packages (from requests->vaderSentiment) (3.0.4)\n",
            "Requirement already satisfied: certifi>=2017.4.17 in /usr/local/lib/python3.6/dist-packages (from requests->vaderSentiment) (2020.4.5.2)\n",
            "Requirement already satisfied: urllib3!=1.25.0,!=1.25.1,<1.26,>=1.21.1 in /usr/local/lib/python3.6/dist-packages (from requests->vaderSentiment) (1.24.3)\n",
            "Installing collected packages: vaderSentiment\n",
            "Successfully installed vaderSentiment-3.3.2\n"
          ],
          "name": "stdout"
        }
      ]
    },
    {
      "cell_type": "code",
      "metadata": {
        "colab_type": "code",
        "id": "-U846JmBdPaM",
        "colab": {}
      },
      "source": [
        "import tweepy\n",
        "import pandas as pd\n",
        "from vaderSentiment.vaderSentiment import SentimentIntensityAnalyzer"
      ],
      "execution_count": 3,
      "outputs": []
    },
    {
      "cell_type": "code",
      "metadata": {
        "colab_type": "code",
        "id": "D3z0Rkw9dPaQ",
        "colab": {}
      },
      "source": [
        "CONSUMER_API_KEY = '8fxjhgCnLZie0AjbLuntKT0EM'\n",
        "CONSUMER_API_SECRET = 'd9oab3yrWQybhC64hk5YIXybhuIql20sUWvte2Z8vVQvKtM3Id'\n",
        "ACCESS_TOKEN ='822833106-VKB22OHa8dXm2Hd5sEl5d5gWLmSfaH5EEmjA88DX'\n",
        "ACCESS_TOKEN_SECRET = '22iR0cQfOvSQ77UFKKf4CHNLPvvNYEqzNUkugvubrLMx5'\n",
        "auth = tweepy.OAuthHandler(CONSUMER_API_KEY, CONSUMER_API_SECRET)\n",
        "auth.set_access_token(ACCESS_TOKEN, ACCESS_TOKEN_SECRET)"
      ],
      "execution_count": 4,
      "outputs": []
    },
    {
      "cell_type": "markdown",
      "metadata": {
        "colab_type": "text",
        "id": "pfbF1IPPdPaT"
      },
      "source": [
        "### Utility Function"
      ]
    },
    {
      "cell_type": "code",
      "metadata": {
        "colab_type": "code",
        "id": "3YBmCeWPdPaU",
        "colab": {}
      },
      "source": [
        "# Function to get trending topic by country name\n",
        "def get_trending_topic_by_country(country, num_trends):\n",
        "    api = tweepy.API(auth, wait_on_rate_limit=True, wait_on_rate_limit_notify=True)\n",
        "    trends_country = api.trends_available()\n",
        "    for trend in trends_country:\n",
        "        if trend['name'] == country:\n",
        "            country_info = (trend['name'], trend['woeid'])\n",
        "            print('Country: {}, WOEID: {}'.format(trend['name'], trend['woeid']))\n",
        "    \n",
        "    index = 1\n",
        "    trending_topics = []\n",
        "    trends_result = api.trends_place(country_info[1])\n",
        "    for tren in trends_result[0]['trends'][:num_trends]: \n",
        "        print('#{}: {}'.format(index, tren['name']))\n",
        "        trending_topics.append(tren['name'])\n",
        "        index += 1\n",
        "        \n",
        "    return trending_topics\n",
        "\n",
        "# Function to get tweets by keyword\n",
        "def get_tweets_by_keyword(keywords, num_of_tweets, language, filename='', export_to_csv=False):\n",
        "    \"\"\"\n",
        "    Use this function if you want export the tweet to CSV file\n",
        "    keywords: tweet keyword\n",
        "    num_of_tweets: number of tweets that your want to fetch\n",
        "    language: tweet language\n",
        "    filename: filename\n",
        "    \"\"\"\n",
        "    api = tweepy.API(auth, wait_on_rate_limit=True, wait_on_rate_limit_notify=True)\n",
        "    tweets = tweepy.Cursor(api.search, q=keywords, lang=language).items(num_of_tweets)\n",
        "    \n",
        "    # These are all I can get with free Twitter API, you can get more with the premium one\n",
        "    dt_tweets = [[tweet.user.name, tweet.user.screen_name, tweet.user.location, \n",
        "                  tweet.user.verified, tweet.user.followers_count,\n",
        "                  tweet.user.friends_count, tweet.user.listed_count, \n",
        "                  tweet.created_at, tweet.text, tweet.coordinates, \n",
        "                  tweet.place, tweet.favorite_count] for tweet in tweets]\n",
        "    \n",
        "    df_tweets = pd.DataFrame(data=dt_tweets)\n",
        "    df_tweets.columns = ['username', 'screen_name', 'user_location', 'user_verified', \n",
        "                     'followers_count', 'friends_count', 'listed_count', 'tweet_created_at',\n",
        "                     'tweet_text', 'tweet_coordinates', 'tweet_place', 'tweet_favorite_count']\n",
        "    \n",
        "    \n",
        "    if export_to_csv == True:\n",
        "        export_to_csv(df_tweets, filename)\n",
        "        \n",
        "    return df_tweets\n",
        "\n",
        "# Overiding function \n",
        "def get_tweets_by_keyword(keywords, num_of_tweets, language):\n",
        "    \"\"\"\n",
        "    Use this function and its parameter if you don't want export to CSV\n",
        "    \"\"\"\n",
        "    api = tweepy.API(auth, wait_on_rate_limit=True, wait_on_rate_limit_notify=True)\n",
        "    tweets = tweepy.Cursor(api.search, q=keywords, lang=language).items(num_of_tweets)\n",
        "    \n",
        "    # These are all I can get with free Twitter API, you can get more with the premium one\n",
        "    dt_tweets = [[tweet.user.name, tweet.user.screen_name, tweet.user.location, \n",
        "                  tweet.user.verified, tweet.user.followers_count,\n",
        "                  tweet.user.friends_count, tweet.user.listed_count, \n",
        "                  tweet.created_at, tweet.text, tweet.coordinates, \n",
        "                  tweet.place, tweet.favorite_count] for tweet in tweets]\n",
        "    \n",
        "    df_tweets = pd.DataFrame(data=dt_tweets)\n",
        "    df_tweets.columns = ['username', 'screen_name', 'user_location', 'user_verified', \n",
        "                     'followers_count', 'friends_count', 'listed_count', 'tweet_created_at',\n",
        "                     'tweet_text', 'tweet_coordinates', 'tweet_place', 'tweet_favorite_count']\n",
        "        \n",
        "    return df_tweets\n",
        "\n",
        "# Function to remove unwanted string in the tweet\n",
        "def remove_unwanted_string(dataframe):\n",
        "    new_record = []\n",
        "    tweet_text = dataframe.apply(lambda x: str(x).split())\n",
        "    for record in tweet_text:\n",
        "        for text in record:\n",
        "            if 'RT' in text or '@' in text or '#' in text:\n",
        "                record.remove(text)\n",
        "        \n",
        "        new_record.append(' '.join(record))\n",
        "    dataframe = new_record\n",
        "    return dataframe\n",
        "            \n",
        "# Function to print sentiments of the sentence\n",
        "def sentiment_scores(sentence):\n",
        "    # Create a SentimentIntensityAnalyzer object\n",
        "    sid_obj = SentimentIntensityAnalyzer()\n",
        "    \n",
        "    # polarity_scores method of SentimentIntensityAnalyzer\n",
        "    # object gives a sentiment dictionary\n",
        "    # which contains pos, neg, neu, and compoind scores\n",
        "    sentiment_dict = sid_obj.polarity_scores(sentence)\n",
        "    \n",
        "    return sentiment_dict\n",
        "    \n",
        "# Function export to CSV\n",
        "def export_to_csv(dataframe, filename):\n",
        "    print('\\nExported to CSV')\n",
        "    return dataframe.to_csv(filename)"
      ],
      "execution_count": 5,
      "outputs": []
    },
    {
      "cell_type": "markdown",
      "metadata": {
        "colab_type": "text",
        "id": "O3R5G2OudPaW"
      },
      "source": [
        "## Get Tweets by trending topics on spesific country"
      ]
    },
    {
      "cell_type": "code",
      "metadata": {
        "colab_type": "code",
        "id": "USvVNfhkdPaX",
        "scrolled": false,
        "colab": {
          "base_uri": "https://localhost:8080/",
          "height": 201
        },
        "outputId": "a2d36db4-820f-4940-a4be-daa27fa5c9a0"
      },
      "source": [
        "df_tweets_trending = get_trending_topic_by_country('Indonesia', 10)"
      ],
      "execution_count": 6,
      "outputs": [
        {
          "output_type": "stream",
          "text": [
            "Country: Indonesia, WOEID: 23424846\n",
            "#1: #엑소_3000일_3000만큼_사랑해\n",
            "#2: #howyoulikethat_d2\n",
            "#3: #OrangKayaGakTau\n",
            "#4: #1dmonthbegins\n",
            "#5: #PBSIHomeTournament\n",
            "#6: BTS PAVED THE WAY\n",
            "#7: Pagii\n",
            "#8: Selamat Hari Bidan Nasional\n",
            "#9: TREASURE AND TEUMES FOREVER\n",
            "#10: Kevin\n"
          ],
          "name": "stdout"
        }
      ]
    },
    {
      "cell_type": "markdown",
      "metadata": {
        "colab_type": "text",
        "id": "0viiMJh4dPaa"
      },
      "source": [
        "## Get Tweets by Keyword\n",
        "\n",
        "We can pass trending topic or any keyword as a parameter to the function."
      ]
    },
    {
      "cell_type": "code",
      "metadata": {
        "colab_type": "code",
        "id": "VkwjbVZNdPab",
        "colab": {}
      },
      "source": [
        "df_tweets = get_tweets_by_keyword(['covid', 'covid-19'], 100, 'en')"
      ],
      "execution_count": 7,
      "outputs": []
    },
    {
      "cell_type": "code",
      "metadata": {
        "colab_type": "code",
        "id": "73wF6YPDdPad",
        "colab": {
          "base_uri": "https://localhost:8080/",
          "height": 759
        },
        "outputId": "3ec34209-1f83-4565-ab5c-1e0166124a53"
      },
      "source": [
        "df_tweets"
      ],
      "execution_count": 8,
      "outputs": [
        {
          "output_type": "execute_result",
          "data": {
            "text/html": [
              "<div>\n",
              "<style scoped>\n",
              "    .dataframe tbody tr th:only-of-type {\n",
              "        vertical-align: middle;\n",
              "    }\n",
              "\n",
              "    .dataframe tbody tr th {\n",
              "        vertical-align: top;\n",
              "    }\n",
              "\n",
              "    .dataframe thead th {\n",
              "        text-align: right;\n",
              "    }\n",
              "</style>\n",
              "<table border=\"1\" class=\"dataframe\">\n",
              "  <thead>\n",
              "    <tr style=\"text-align: right;\">\n",
              "      <th></th>\n",
              "      <th>username</th>\n",
              "      <th>screen_name</th>\n",
              "      <th>user_location</th>\n",
              "      <th>user_verified</th>\n",
              "      <th>followers_count</th>\n",
              "      <th>friends_count</th>\n",
              "      <th>listed_count</th>\n",
              "      <th>tweet_created_at</th>\n",
              "      <th>tweet_text</th>\n",
              "      <th>tweet_coordinates</th>\n",
              "      <th>tweet_place</th>\n",
              "      <th>tweet_favorite_count</th>\n",
              "    </tr>\n",
              "  </thead>\n",
              "  <tbody>\n",
              "    <tr>\n",
              "      <th>0</th>\n",
              "      <td>jaykeep</td>\n",
              "      <td>jaykeeper10</td>\n",
              "      <td></td>\n",
              "      <td>False</td>\n",
              "      <td>340</td>\n",
              "      <td>213</td>\n",
              "      <td>0</td>\n",
              "      <td>2020-06-24 03:27:21</td>\n",
              "      <td>RT @Carlos4PF: My Uncle Gustavo opened a chick...</td>\n",
              "      <td>None</td>\n",
              "      <td>None</td>\n",
              "      <td>0</td>\n",
              "    </tr>\n",
              "    <tr>\n",
              "      <th>1</th>\n",
              "      <td>Adarsh Tiwari</td>\n",
              "      <td>aadarshtiwary</td>\n",
              "      <td>Lucknow, India</td>\n",
              "      <td>False</td>\n",
              "      <td>7</td>\n",
              "      <td>19</td>\n",
              "      <td>0</td>\n",
              "      <td>2020-06-24 03:27:21</td>\n",
              "      <td>RT @TOILucknow: Lucknow: The Lucknow Universit...</td>\n",
              "      <td>None</td>\n",
              "      <td>None</td>\n",
              "      <td>0</td>\n",
              "    </tr>\n",
              "    <tr>\n",
              "      <th>2</th>\n",
              "      <td>G. DeYoung</td>\n",
              "      <td>vikingsarehere</td>\n",
              "      <td>Los Angeles, CA</td>\n",
              "      <td>False</td>\n",
              "      <td>1679</td>\n",
              "      <td>2373</td>\n",
              "      <td>1</td>\n",
              "      <td>2020-06-24 03:27:21</td>\n",
              "      <td>RT @Jar_O_Cats: Should be required reading for...</td>\n",
              "      <td>None</td>\n",
              "      <td>None</td>\n",
              "      <td>0</td>\n",
              "    </tr>\n",
              "    <tr>\n",
              "      <th>3</th>\n",
              "      <td>Mela Storm #Resistance! NO SURRENDER</td>\n",
              "      <td>StormMela</td>\n",
              "      <td>Kansas, USA</td>\n",
              "      <td>False</td>\n",
              "      <td>27794</td>\n",
              "      <td>18678</td>\n",
              "      <td>10</td>\n",
              "      <td>2020-06-24 03:27:21</td>\n",
              "      <td>RT @LauraKellyKS: If we don't improve KS' #202...</td>\n",
              "      <td>None</td>\n",
              "      <td>None</td>\n",
              "      <td>0</td>\n",
              "    </tr>\n",
              "    <tr>\n",
              "      <th>4</th>\n",
              "      <td>Ray King</td>\n",
              "      <td>king_of_ray</td>\n",
              "      <td></td>\n",
              "      <td>False</td>\n",
              "      <td>22</td>\n",
              "      <td>11</td>\n",
              "      <td>0</td>\n",
              "      <td>2020-06-24 03:27:21</td>\n",
              "      <td>@morethanmySLE Trump is more than a laughing s...</td>\n",
              "      <td>None</td>\n",
              "      <td>None</td>\n",
              "      <td>0</td>\n",
              "    </tr>\n",
              "    <tr>\n",
              "      <th>...</th>\n",
              "      <td>...</td>\n",
              "      <td>...</td>\n",
              "      <td>...</td>\n",
              "      <td>...</td>\n",
              "      <td>...</td>\n",
              "      <td>...</td>\n",
              "      <td>...</td>\n",
              "      <td>...</td>\n",
              "      <td>...</td>\n",
              "      <td>...</td>\n",
              "      <td>...</td>\n",
              "      <td>...</td>\n",
              "    </tr>\n",
              "    <tr>\n",
              "      <th>95</th>\n",
              "      <td>Hiro Okabe</td>\n",
              "      <td>mcx5ho1</td>\n",
              "      <td>日本</td>\n",
              "      <td>False</td>\n",
              "      <td>59</td>\n",
              "      <td>237</td>\n",
              "      <td>1</td>\n",
              "      <td>2020-06-24 03:27:11</td>\n",
              "      <td>Business has a unique role to play today. Not ...</td>\n",
              "      <td>None</td>\n",
              "      <td>None</td>\n",
              "      <td>0</td>\n",
              "    </tr>\n",
              "    <tr>\n",
              "      <th>96</th>\n",
              "      <td>Ashwini Hiremath 🌎</td>\n",
              "      <td>TheWiseScalpel</td>\n",
              "      <td></td>\n",
              "      <td>False</td>\n",
              "      <td>224</td>\n",
              "      <td>248</td>\n",
              "      <td>0</td>\n",
              "      <td>2020-06-24 03:27:11</td>\n",
              "      <td>RT @ndtv: Delhi's Class 10 student makes face ...</td>\n",
              "      <td>None</td>\n",
              "      <td>None</td>\n",
              "      <td>0</td>\n",
              "    </tr>\n",
              "    <tr>\n",
              "      <th>97</th>\n",
              "      <td>Cyclops OmniView</td>\n",
              "      <td>CobusDuPlessis6</td>\n",
              "      <td>Johannesburg, South Africa</td>\n",
              "      <td>False</td>\n",
              "      <td>2</td>\n",
              "      <td>44</td>\n",
              "      <td>0</td>\n",
              "      <td>2020-06-24 03:27:10</td>\n",
              "      <td>Covid-19 spread dynamics:\\nMythbusters Season ...</td>\n",
              "      <td>None</td>\n",
              "      <td>None</td>\n",
              "      <td>0</td>\n",
              "    </tr>\n",
              "    <tr>\n",
              "      <th>98</th>\n",
              "      <td>DeAndre Thompson</td>\n",
              "      <td>deandreignt</td>\n",
              "      <td></td>\n",
              "      <td>False</td>\n",
              "      <td>746</td>\n",
              "      <td>838</td>\n",
              "      <td>9</td>\n",
              "      <td>2020-06-24 03:27:10</td>\n",
              "      <td>RT @Acyn: The President uses the term “Kung Fl...</td>\n",
              "      <td>None</td>\n",
              "      <td>None</td>\n",
              "      <td>0</td>\n",
              "    </tr>\n",
              "    <tr>\n",
              "      <th>99</th>\n",
              "      <td>Heidi Hatch</td>\n",
              "      <td>tvheidihatch</td>\n",
              "      <td>Salt Lake City, UT</td>\n",
              "      <td>True</td>\n",
              "      <td>7377</td>\n",
              "      <td>2001</td>\n",
              "      <td>225</td>\n",
              "      <td>2020-06-24 03:27:10</td>\n",
              "      <td>RT @HayleyHolme: We’re hearing from veterans t...</td>\n",
              "      <td>None</td>\n",
              "      <td>None</td>\n",
              "      <td>0</td>\n",
              "    </tr>\n",
              "  </tbody>\n",
              "</table>\n",
              "<p>100 rows × 12 columns</p>\n",
              "</div>"
            ],
            "text/plain": [
              "                                username  ... tweet_favorite_count\n",
              "0                                jaykeep  ...                    0\n",
              "1                          Adarsh Tiwari  ...                    0\n",
              "2                             G. DeYoung  ...                    0\n",
              "3   Mela Storm #Resistance! NO SURRENDER  ...                    0\n",
              "4                               Ray King  ...                    0\n",
              "..                                   ...  ...                  ...\n",
              "95                            Hiro Okabe  ...                    0\n",
              "96                    Ashwini Hiremath 🌎  ...                    0\n",
              "97                      Cyclops OmniView  ...                    0\n",
              "98                      DeAndre Thompson  ...                    0\n",
              "99                           Heidi Hatch  ...                    0\n",
              "\n",
              "[100 rows x 12 columns]"
            ]
          },
          "metadata": {
            "tags": []
          },
          "execution_count": 8
        }
      ]
    },
    {
      "cell_type": "code",
      "metadata": {
        "colab_type": "code",
        "id": "5v2lKqHFdPah",
        "colab": {
          "base_uri": "https://localhost:8080/",
          "height": 33
        },
        "outputId": "c84148dd-440d-4389-f96a-99d9706f8fb3"
      },
      "source": [
        "df_tweets['tweet_text'][1]"
      ],
      "execution_count": 9,
      "outputs": [
        {
          "output_type": "execute_result",
          "data": {
            "text/plain": [
              "'RT @TOILucknow: Lucknow: The Lucknow University Associated College Teachers’ Association (LUACTA) has threatened to boycott undergraduate a…'"
            ]
          },
          "metadata": {
            "tags": []
          },
          "execution_count": 9
        }
      ]
    },
    {
      "cell_type": "markdown",
      "metadata": {
        "colab_type": "text",
        "id": "q8rysDxEdPaj"
      },
      "source": [
        "## Remove Unwanted String from Tweets"
      ]
    },
    {
      "cell_type": "code",
      "metadata": {
        "colab_type": "code",
        "id": "u1Gk4liTdPaj",
        "scrolled": false,
        "colab": {
          "base_uri": "https://localhost:8080/",
          "height": 33
        },
        "outputId": "fe78763e-357a-4496-8727-97c75b152ea5"
      },
      "source": [
        "df_tweets['tweet_text'] = remove_unwanted_string(df_tweets['tweet_text'])\n",
        "print(df_tweets['tweet_text'][1])"
      ],
      "execution_count": 10,
      "outputs": [
        {
          "output_type": "stream",
          "text": [
            "@TOILucknow: Lucknow: The Lucknow University Associated College Teachers’ Association (LUACTA) has threatened to boycott undergraduate a…\n"
          ],
          "name": "stdout"
        }
      ]
    },
    {
      "cell_type": "code",
      "metadata": {
        "id": "nrYDV6KrWMuu",
        "colab_type": "code",
        "colab": {}
      },
      "source": [
        "# export_to_csv(df_tweets['tweet_text'], '../dataset/tweet_sample_100.csv')"
      ],
      "execution_count": 11,
      "outputs": []
    },
    {
      "cell_type": "markdown",
      "metadata": {
        "colab_type": "text",
        "id": "Ih6Hv5JqdPal"
      },
      "source": [
        "## Tweet Sentiment with VaderSentiment library/module\n",
        "\n",
        "Note: Can not support Indonesian language"
      ]
    },
    {
      "cell_type": "code",
      "metadata": {
        "colab_type": "code",
        "id": "11cv0zAgdPam",
        "colab": {}
      },
      "source": [
        "pos, neg, neu, comp = [], [], [], []\n",
        "for text in df_tweets['tweet_text']:\n",
        "    sentiment = sentiment_scores(text)\n",
        "    pos.append(sentiment['pos'])\n",
        "    neg.append(sentiment['neg'])\n",
        "    neu.append(sentiment['neu'])\n",
        "    comp.append(sentiment['compound'])\n",
        "    \n",
        "df_tweets_sentiment = pd.DataFrame()\n",
        "# df_tweets_sentiment.columns = ['tweet_text', 'positive', 'negative', 'neutral', 'compound']\n",
        "df_tweets_sentiment['tweet_text'] = df_tweets['tweet_text']\n",
        "df_tweets_sentiment['positive'] = pos\n",
        "df_tweets_sentiment['negative'] = neg\n",
        "df_tweets_sentiment['neutral'] = neu\n",
        "df_tweets_sentiment['compound'] = comp"
      ],
      "execution_count": 12,
      "outputs": []
    },
    {
      "cell_type": "code",
      "metadata": {
        "colab_type": "code",
        "id": "kJHkSwimdPao",
        "colab": {
          "base_uri": "https://localhost:8080/",
          "height": 404
        },
        "outputId": "5b6ea022-d2c3-4e50-fab8-22b915e3f339"
      },
      "source": [
        "df_tweets_sentiment"
      ],
      "execution_count": 13,
      "outputs": [
        {
          "output_type": "execute_result",
          "data": {
            "text/html": [
              "<div>\n",
              "<style scoped>\n",
              "    .dataframe tbody tr th:only-of-type {\n",
              "        vertical-align: middle;\n",
              "    }\n",
              "\n",
              "    .dataframe tbody tr th {\n",
              "        vertical-align: top;\n",
              "    }\n",
              "\n",
              "    .dataframe thead th {\n",
              "        text-align: right;\n",
              "    }\n",
              "</style>\n",
              "<table border=\"1\" class=\"dataframe\">\n",
              "  <thead>\n",
              "    <tr style=\"text-align: right;\">\n",
              "      <th></th>\n",
              "      <th>tweet_text</th>\n",
              "      <th>positive</th>\n",
              "      <th>negative</th>\n",
              "      <th>neutral</th>\n",
              "      <th>compound</th>\n",
              "    </tr>\n",
              "  </thead>\n",
              "  <tbody>\n",
              "    <tr>\n",
              "      <th>0</th>\n",
              "      <td>@Carlos4PF: My Uncle Gustavo opened a chicken ...</td>\n",
              "      <td>0.144</td>\n",
              "      <td>0.097</td>\n",
              "      <td>0.758</td>\n",
              "      <td>0.0772</td>\n",
              "    </tr>\n",
              "    <tr>\n",
              "      <th>1</th>\n",
              "      <td>@TOILucknow: Lucknow: The Lucknow University A...</td>\n",
              "      <td>0.000</td>\n",
              "      <td>0.275</td>\n",
              "      <td>0.725</td>\n",
              "      <td>-0.6486</td>\n",
              "    </tr>\n",
              "    <tr>\n",
              "      <th>2</th>\n",
              "      <td>@Jar_O_Cats: Should be required reading for ev...</td>\n",
              "      <td>0.115</td>\n",
              "      <td>0.250</td>\n",
              "      <td>0.635</td>\n",
              "      <td>-0.5256</td>\n",
              "    </tr>\n",
              "    <tr>\n",
              "      <th>3</th>\n",
              "      <td>@LauraKellyKS: If we don't improve KS' partici...</td>\n",
              "      <td>0.000</td>\n",
              "      <td>0.447</td>\n",
              "      <td>0.553</td>\n",
              "      <td>-0.8274</td>\n",
              "    </tr>\n",
              "    <tr>\n",
              "      <th>4</th>\n",
              "      <td>Trump is more than a laughing stock, he is a p...</td>\n",
              "      <td>0.134</td>\n",
              "      <td>0.128</td>\n",
              "      <td>0.737</td>\n",
              "      <td>0.0422</td>\n",
              "    </tr>\n",
              "    <tr>\n",
              "      <th>...</th>\n",
              "      <td>...</td>\n",
              "      <td>...</td>\n",
              "      <td>...</td>\n",
              "      <td>...</td>\n",
              "      <td>...</td>\n",
              "    </tr>\n",
              "    <tr>\n",
              "      <th>95</th>\n",
              "      <td>Business has a unique role to play today. Not ...</td>\n",
              "      <td>0.082</td>\n",
              "      <td>0.000</td>\n",
              "      <td>0.918</td>\n",
              "      <td>0.1779</td>\n",
              "    </tr>\n",
              "    <tr>\n",
              "      <th>96</th>\n",
              "      <td>@ndtv: Delhi's Class 10 student makes face shi...</td>\n",
              "      <td>0.000</td>\n",
              "      <td>0.148</td>\n",
              "      <td>0.852</td>\n",
              "      <td>-0.3818</td>\n",
              "    </tr>\n",
              "    <tr>\n",
              "      <th>97</th>\n",
              "      <td>Covid-19 spread dynamics: Mythbusters Season 8...</td>\n",
              "      <td>0.085</td>\n",
              "      <td>0.230</td>\n",
              "      <td>0.685</td>\n",
              "      <td>-0.5574</td>\n",
              "    </tr>\n",
              "    <tr>\n",
              "      <th>98</th>\n",
              "      <td>@Acyn: The President uses the term “Kung Flu” ...</td>\n",
              "      <td>0.000</td>\n",
              "      <td>0.000</td>\n",
              "      <td>1.000</td>\n",
              "      <td>0.0000</td>\n",
              "    </tr>\n",
              "    <tr>\n",
              "      <th>99</th>\n",
              "      <td>@HayleyHolme: We’re hearing from veterans toni...</td>\n",
              "      <td>0.000</td>\n",
              "      <td>0.000</td>\n",
              "      <td>1.000</td>\n",
              "      <td>0.0000</td>\n",
              "    </tr>\n",
              "  </tbody>\n",
              "</table>\n",
              "<p>100 rows × 5 columns</p>\n",
              "</div>"
            ],
            "text/plain": [
              "                                           tweet_text  ...  compound\n",
              "0   @Carlos4PF: My Uncle Gustavo opened a chicken ...  ...    0.0772\n",
              "1   @TOILucknow: Lucknow: The Lucknow University A...  ...   -0.6486\n",
              "2   @Jar_O_Cats: Should be required reading for ev...  ...   -0.5256\n",
              "3   @LauraKellyKS: If we don't improve KS' partici...  ...   -0.8274\n",
              "4   Trump is more than a laughing stock, he is a p...  ...    0.0422\n",
              "..                                                ...  ...       ...\n",
              "95  Business has a unique role to play today. Not ...  ...    0.1779\n",
              "96  @ndtv: Delhi's Class 10 student makes face shi...  ...   -0.3818\n",
              "97  Covid-19 spread dynamics: Mythbusters Season 8...  ...   -0.5574\n",
              "98  @Acyn: The President uses the term “Kung Flu” ...  ...    0.0000\n",
              "99  @HayleyHolme: We’re hearing from veterans toni...  ...    0.0000\n",
              "\n",
              "[100 rows x 5 columns]"
            ]
          },
          "metadata": {
            "tags": []
          },
          "execution_count": 13
        }
      ]
    },
    {
      "cell_type": "markdown",
      "metadata": {
        "colab_type": "text",
        "id": "CNmBmg0qdPaq"
      },
      "source": [
        "Detail information about the output visit https://github.com/cjhutto/vaderSentiment"
      ]
    }
  ]
}